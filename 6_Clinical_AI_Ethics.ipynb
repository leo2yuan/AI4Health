{
 "cells": [
  {
   "cell_type": "markdown",
   "id": "717467b0",
   "metadata": {},
   "source": [
    "<img src=\"graphics/header.png\" width=\"75%\"/>\n",
    "\n",
    "# **Clinical AI Ethics**\n",
    "---\n",
    "\n",
    "In this module, we will explore important ethical issues surrounding deployment of AI systems in healthcare contexts. We will provide a broad overview of the core principles of ethical AI for health, and complete an excercise to quantify the fairness (and identify potential bias) of a predictive machine learning model using real-world patient data from multiple sensitive demographic groups.\n",
    "\n",
    "After this module, learners will be able to:\n",
    "\n",
    "* Identify the positive impact that AI can have on healthcare.\n",
    "* Understand the negative societal consequences if ethics is not prioritized in medical AI contexts.\n",
    "* Articulate the core ethical principles of AI for health identified by the World Health Organization.\n",
    "* Explain the importance of fairness in algorithmic decision-making.\n",
    "* Recognize sensitive demographic groups as defined by the US Department of Health and Human Services.\n",
    "* Develop AICC prediction models and quantify potential bias using common fairness metrics.\n",
    "* Explain the methods used to mitigate unfairness.\n",
    "* Apply simple model explainability techniques to facilitate transparency.\n",
    "\n",
    "### **🚀 Let's get started.**"
   ]
  },
  {
   "cell_type": "markdown",
   "id": "41de010b",
   "metadata": {},
   "source": [
    "# Introduction to the Ethics of AI in Medicine\n",
    "Artificial intelligence (AI) holds great promise for the practice of public health and medicine. To fully reap the benefits of AI, ethical challenges for healthcare systems, practitioners and beneficiaries of medical and public health services must be addressed.\n",
    "\n",
    "Whether AI can advance the interests of patients and communities depends on a collective effort to design and implement ethically defensible laws and policies and ethically designed AI technologies. There are also potential serious negative consequences if ethical principles and human rights obligations are not prioritized by those who fund, design, regulate or use AI technologies for health. AI’s opportunities and challenges are thus inextricably linked.\n",
    "\n",
    "AI can augment the ability of health-care providers to improve patient care, provide accurate diagnoses, optimize treatment plans, support pandemic preparedness and response, inform the decisions of health policy-makers or allocate resources within health systems. To unlock this potential, health-care workers and health systems must have detailed information on the contexts in which such systems can function safely and effectively, the conditions necessary to ensure reliable, appropriate use, and the mechanisms for continuous auditing and assessment of system performance. Health- care workers and health systems must have access to education and training in order to use and maintain these systems under the conditions for their safe, effective use.\n",
    "\n",
    "AI can also empower patients and communities to assume control of their own\n",
    "healthcare and better understand their evolving needs. To achieve this, patients and communities require assurance that their rights and interests will not be subordinated to the powerful commercial interests of technology companies or the interests of governments in surveillance and social control. It also requires that the potential of AI to detect risks to patient or community health is incorporated into health systems in a way that advances human autonomy and dignity and does not displace humans from the centre of health decision-making.\n",
    "\n",
    "AI systems must be carefully designed to reflect the diversity of socioeconomic and healthcare settings and be accompanied by training in digital skills, community engagement and awareness-raising. Systems based primarily on data of one group of individuals may not perform well for others."
   ]
  },
  {
   "cell_type": "markdown",
   "id": "8609bfdf",
   "metadata": {},
   "source": [
    "# Core Ethical AI Principles\n",
    "The World Health Organization (WHO) has identified six core principles to promote the [ethical use of AI for health](https://www.who.int/publications/i/item/9789240029200). These principles are intended to guide developers, users and regulators in improving and overseeing the design and use of such technologies. Human dignity and the inherent worth of humans are the central values upon which all other ethical principles rest.\n",
    "\n",
    "1. Protect **autonomy**.\n",
    "2. Promote human **well-being**, **human safety**, and the **public interest**.\n",
    "3. Ensure **transparency**, **explainability**, and **intelligibility**.\n",
    "4. Foster **responsibility** and **accountability**.\n",
    "5. Ensure **inclusiveness** and **equity**.\n",
    "6. Promote AI that is **responsive** and **sustainable**.\n",
    "\n",
    "To implement these principles and human rights obligations into practice, all stakeholders (designers, programmers, providers, patients, and governments) must work together to integrate ethical norms at every stage of a technology’s design, development, and deployment.\n",
    "\n",
    "* **Protecting human autonomy.** Use of AI can lead to situations in which decision-making power could be transferred to machines. The principle of autonomy requires that the use of AI or other computational systems does not undermine human autonomy. In the context of health, this means that humans should remain in control of healthcare systems and medical decisions. Respect for human autonomy also entails related duties to ensure that providers have the information necessary to make safe, effective use of AI systems and that people understand the role that such systems play in their care. It also requires protection of privacy and confidentiality and obtaining valid informed consent through appropriate legal frameworks for data protection.\n",
    "\n",
    "* **Promoting human well-being and safety and the public interest.** AI technologies should not harm people. The designers of AI technologies should satisfy regulatory requirements for safety, accuracy and efficacy for well-defined use cases or indications. Measures of quality control in practice and quality improvement in the use of AI over time should be available. Preventing harm requires that AI not result in mental or physical harm that could be avoided by use of an alternative practice or approach.\n",
    "\n",
    "* **<span style=\"color: red;\">Ensuring transparency, explainability and intelligibility.</span>** AI technologies should be intelligible or understandable to developers, medical professionals, patients, users and regulators. Two broad approaches to intelligibility are to improve the transparency of AI technology and to make AI technology explainable. Transparency requires that sufficient information be published or documented before the design or deployment of an AI technology and that such information facilitate meaningful public consultation and debate on how the technology is designed and how it should or should not be used. AI technologies should be explainable according to the capacity of those to whom they are explained.\n",
    "\n",
    "* **Fostering responsibility and accountability.** Humans require clear, transparent specification of the tasks that systems can perform and the conditions under which they can achieve the desired performance. Although AI technologies perform specific tasks, it is the responsibility of stakeholders to ensure that they can perform those tasks and that AI is used under appropriate conditions and by appropriately trained people. Responsibility can be assured by application of regulatory principles upstream and downstream of the algorithm by establishing points of human supervision. If something goes wrong with an AI technology, there should be accountability. Appropriate mechanisms should be available for questioning and for redress for individuals and groups that are adversely affected by decisions based on algorithms.\n",
    "\n",
    "* **<span style=\"color: red;\">Ensuring inclusiveness and equity.</span>** Inclusiveness requires that AI for health be designed to encourage the widest possible appropriate, equitable use and access, irrespective of age, sex, gender, income, race, ethnicity, sexual orientation, ability or other characteristics protected under human rights codes. AI technology, like any other technology, should be shared as widely as possible. AI technologies should be available for use not only in contexts and for needs in resource-rich settings. AI technologies should not encode biases to the disadvantage of identifiable groups, especially groups that are already marginalized. Bias is a threat to inclusiveness and equity, as it can result in a departure, often arbitrary, from equal treatment. AI technologies should minimize inevitable disparities in power that arise between providers and patients, between policy-makers and people and between companies and governments that create and deploy AI technologies and those that use or rely on them. AI tools and systems should be monitored and evaluated to identify disproportionate effects on specific groups of people. No technology, AI or otherwise, should sustain or worsen existing forms of bias and discrimination.\n",
    "\n",
    "* **Promoting AI that is responsive and sustainable.** Responsiveness requires that designers, developers and users continuously, systematically and transparently assess AI applications during actual use. They should determine whether AI responds adequately and appropriately and according to communicated, legitimate expectations and requirements. Responsiveness also requires that AI technologies be consistent with wider promotion of the sustainability of health systems, environments and workplaces. AI systems should be designed to minimize their environmental consequences and increase energy efficiency. That is, use of AI should be consistent with global efforts to reduce the impact of human beings on the Earth’s environment, ecosystems and climate. Sustainability also requires governments and companies to address anticipated disruptions in the workplace, including training for health-care workers to adapt to the use of AI systems, and potential job losses due to use of automated systems.\n",
    "\n",
    "The majority of this notebook will focus on <span style=\"color: red;\">**assessing the fairness and explainability of predictive machine learning models**</span> hypothetically deployed in critical care settings. "
   ]
  },
  {
   "cell_type": "markdown",
   "id": "f4f266bd",
   "metadata": {},
   "source": [
    "# Fairness\n",
    "Let's begin by loading our previous dataset of 10,000 patients who underwent major surgery and were transferred to an intensive care unit (ICU) following their operation.\n",
    "* This dataset contains `47` features corresponding to each patient (demographic variables, admission and procedure information, select social determinants of health, summarized medical history, admission comorbidities, and estimated glomerular filtration rate measured before surgery. These characteristics are our **model inputs** for each sample (patient), also known as `features`.\n",
    "* Each patient is also associated with an **outcome**, or `label`, corresponding to whether they developed acute kidney injury during their ICU stay."
   ]
  },
  {
   "cell_type": "code",
   "execution_count": 1,
   "id": "9d882865",
   "metadata": {},
   "outputs": [
    {
     "data": {
      "text/html": [
       "<div>\n",
       "<style scoped>\n",
       "    .dataframe tbody tr th:only-of-type {\n",
       "        vertical-align: middle;\n",
       "    }\n",
       "\n",
       "    .dataframe tbody tr th {\n",
       "        vertical-align: top;\n",
       "    }\n",
       "\n",
       "    .dataframe thead th {\n",
       "        text-align: right;\n",
       "    }\n",
       "</style>\n",
       "<table border=\"1\" class=\"dataframe\">\n",
       "  <thead>\n",
       "    <tr style=\"text-align: right;\">\n",
       "      <th></th>\n",
       "      <th>sex</th>\n",
       "      <th>ethnicity</th>\n",
       "      <th>race</th>\n",
       "      <th>language</th>\n",
       "      <th>marital_status</th>\n",
       "      <th>age</th>\n",
       "      <th>bmi</th>\n",
       "      <th>admission_source</th>\n",
       "      <th>emergent</th>\n",
       "      <th>surgery_type</th>\n",
       "      <th>...</th>\n",
       "      <th>valve</th>\n",
       "      <th>coag</th>\n",
       "      <th>obese</th>\n",
       "      <th>wghtloss</th>\n",
       "      <th>lytes</th>\n",
       "      <th>anemia</th>\n",
       "      <th>alc_drug</th>\n",
       "      <th>depress</th>\n",
       "      <th>egfr</th>\n",
       "      <th>aki</th>\n",
       "    </tr>\n",
       "    <tr>\n",
       "      <th>patient_id</th>\n",
       "      <th></th>\n",
       "      <th></th>\n",
       "      <th></th>\n",
       "      <th></th>\n",
       "      <th></th>\n",
       "      <th></th>\n",
       "      <th></th>\n",
       "      <th></th>\n",
       "      <th></th>\n",
       "      <th></th>\n",
       "      <th></th>\n",
       "      <th></th>\n",
       "      <th></th>\n",
       "      <th></th>\n",
       "      <th></th>\n",
       "      <th></th>\n",
       "      <th></th>\n",
       "      <th></th>\n",
       "      <th></th>\n",
       "      <th></th>\n",
       "      <th></th>\n",
       "    </tr>\n",
       "  </thead>\n",
       "  <tbody>\n",
       "    <tr>\n",
       "      <th>0</th>\n",
       "      <td>MALE</td>\n",
       "      <td>NON-HISPANIC</td>\n",
       "      <td>WHITE</td>\n",
       "      <td>ENGLISH</td>\n",
       "      <td>MARRIED</td>\n",
       "      <td>62.4614</td>\n",
       "      <td>24.6711</td>\n",
       "      <td>NON-TRANSFER</td>\n",
       "      <td>EMERGENCY</td>\n",
       "      <td>OTHER</td>\n",
       "      <td>...</td>\n",
       "      <td>0</td>\n",
       "      <td>0</td>\n",
       "      <td>1</td>\n",
       "      <td>0</td>\n",
       "      <td>0</td>\n",
       "      <td>0</td>\n",
       "      <td>0</td>\n",
       "      <td>1</td>\n",
       "      <td>82.1529</td>\n",
       "      <td>0</td>\n",
       "    </tr>\n",
       "    <tr>\n",
       "      <th>1</th>\n",
       "      <td>MALE</td>\n",
       "      <td>NON-HISPANIC</td>\n",
       "      <td>WHITE</td>\n",
       "      <td>ENGLISH</td>\n",
       "      <td>SINGLE</td>\n",
       "      <td>65.3903</td>\n",
       "      <td>30.5554</td>\n",
       "      <td>TRANSFER</td>\n",
       "      <td>NON-EMERGENCY</td>\n",
       "      <td>NEUROSURGERY</td>\n",
       "      <td>...</td>\n",
       "      <td>0</td>\n",
       "      <td>0</td>\n",
       "      <td>0</td>\n",
       "      <td>1</td>\n",
       "      <td>0</td>\n",
       "      <td>1</td>\n",
       "      <td>0</td>\n",
       "      <td>0</td>\n",
       "      <td>104.7827</td>\n",
       "      <td>1</td>\n",
       "    </tr>\n",
       "    <tr>\n",
       "      <th>2</th>\n",
       "      <td>FEMALE</td>\n",
       "      <td>NON-HISPANIC</td>\n",
       "      <td>WHITE</td>\n",
       "      <td>ENGLISH</td>\n",
       "      <td>SINGLE</td>\n",
       "      <td>82.6667</td>\n",
       "      <td>40.5842</td>\n",
       "      <td>NON-TRANSFER</td>\n",
       "      <td>NON-EMERGENCY</td>\n",
       "      <td>CT_SURGERY</td>\n",
       "      <td>...</td>\n",
       "      <td>0</td>\n",
       "      <td>0</td>\n",
       "      <td>1</td>\n",
       "      <td>0</td>\n",
       "      <td>0</td>\n",
       "      <td>1</td>\n",
       "      <td>0</td>\n",
       "      <td>0</td>\n",
       "      <td>85.4759</td>\n",
       "      <td>0</td>\n",
       "    </tr>\n",
       "    <tr>\n",
       "      <th>3</th>\n",
       "      <td>MALE</td>\n",
       "      <td>NON-HISPANIC</td>\n",
       "      <td>WHITE</td>\n",
       "      <td>ENGLISH</td>\n",
       "      <td>MARRIED</td>\n",
       "      <td>62.1461</td>\n",
       "      <td>22.5506</td>\n",
       "      <td>NON-TRANSFER</td>\n",
       "      <td>EMERGENCY</td>\n",
       "      <td>CT_SURGERY</td>\n",
       "      <td>...</td>\n",
       "      <td>0</td>\n",
       "      <td>1</td>\n",
       "      <td>1</td>\n",
       "      <td>0</td>\n",
       "      <td>1</td>\n",
       "      <td>0</td>\n",
       "      <td>1</td>\n",
       "      <td>0</td>\n",
       "      <td>57.2850</td>\n",
       "      <td>0</td>\n",
       "    </tr>\n",
       "    <tr>\n",
       "      <th>4</th>\n",
       "      <td>FEMALE</td>\n",
       "      <td>NON-HISPANIC</td>\n",
       "      <td>WHITE</td>\n",
       "      <td>ENGLISH</td>\n",
       "      <td>MARRIED</td>\n",
       "      <td>43.1582</td>\n",
       "      <td>16.7270</td>\n",
       "      <td>NON-TRANSFER</td>\n",
       "      <td>EMERGENCY</td>\n",
       "      <td>NEUROSURGERY</td>\n",
       "      <td>...</td>\n",
       "      <td>0</td>\n",
       "      <td>0</td>\n",
       "      <td>0</td>\n",
       "      <td>0</td>\n",
       "      <td>1</td>\n",
       "      <td>0</td>\n",
       "      <td>1</td>\n",
       "      <td>0</td>\n",
       "      <td>NaN</td>\n",
       "      <td>1</td>\n",
       "    </tr>\n",
       "  </tbody>\n",
       "</table>\n",
       "<p>5 rows × 48 columns</p>\n",
       "</div>"
      ],
      "text/plain": [
       "               sex     ethnicity   race language marital_status      age  \\\n",
       "patient_id                                                                 \n",
       "0             MALE  NON-HISPANIC  WHITE  ENGLISH        MARRIED  62.4614   \n",
       "1             MALE  NON-HISPANIC  WHITE  ENGLISH         SINGLE  65.3903   \n",
       "2           FEMALE  NON-HISPANIC  WHITE  ENGLISH         SINGLE  82.6667   \n",
       "3             MALE  NON-HISPANIC  WHITE  ENGLISH        MARRIED  62.1461   \n",
       "4           FEMALE  NON-HISPANIC  WHITE  ENGLISH        MARRIED  43.1582   \n",
       "\n",
       "                bmi admission_source       emergent  surgery_type  ...  valve  \\\n",
       "patient_id                                                         ...          \n",
       "0           24.6711     NON-TRANSFER      EMERGENCY         OTHER  ...      0   \n",
       "1           30.5554         TRANSFER  NON-EMERGENCY  NEUROSURGERY  ...      0   \n",
       "2           40.5842     NON-TRANSFER  NON-EMERGENCY    CT_SURGERY  ...      0   \n",
       "3           22.5506     NON-TRANSFER      EMERGENCY    CT_SURGERY  ...      0   \n",
       "4           16.7270     NON-TRANSFER      EMERGENCY  NEUROSURGERY  ...      0   \n",
       "\n",
       "            coag  obese  wghtloss  lytes  anemia  alc_drug  depress      egfr  \\\n",
       "patient_id                                                                      \n",
       "0              0      1         0      0       0         0        1   82.1529   \n",
       "1              0      0         1      0       1         0        0  104.7827   \n",
       "2              0      1         0      0       1         0        0   85.4759   \n",
       "3              1      1         0      1       0         1        0   57.2850   \n",
       "4              0      0         0      1       0         1        0       NaN   \n",
       "\n",
       "            aki  \n",
       "patient_id       \n",
       "0             0  \n",
       "1             1  \n",
       "2             0  \n",
       "3             0  \n",
       "4             1  \n",
       "\n",
       "[5 rows x 48 columns]"
      ]
     },
     "execution_count": 1,
     "metadata": {},
     "output_type": "execute_result"
    }
   ],
   "source": [
    "import pandas as pd\n",
    "import matplotlib.pyplot as plt\n",
    "%matplotlib inline\n",
    "\n",
    "df = pd.read_csv('https://www.dropbox.com/scl/fi/itlhhnrhbg9y9b3nnbd7t/data_unprocessed.csv?rlkey=labucmpbah1xu7alhmgrn4511&dl=1', index_col='patient_id')\n",
    "df.head()"
   ]
  },
  {
   "cell_type": "markdown",
   "id": "2a2f471d",
   "metadata": {},
   "source": [
    "Some of the patient characteristics contained in our dataset describe classes protected from discrimination by the US Department of Health and Human Services Office for Civil Rights. Section 1557 of the Patient Protection and Affordable Care Act (42 U.S.C. 18116) prohibits discrimination on the basis of race, color, national origin, age, disability, or sex (including pregnancy, sexual orientation, gender identity, and sex characteristics), in covered health programs or activities.\n",
    "\n",
    "In this notebook, we will analyze (1) age, (2) sex, and (3) race in the context of machine learning for critical care."
   ]
  },
  {
   "cell_type": "markdown",
   "id": "b7f40d57",
   "metadata": {},
   "source": [
    "# Analyzing sensitive patient attributes\n",
    "Next, let's examine the distribution of select patient attributes that are considered characteristics protected under human rights codes (e.g., age, sex, income, race).\n",
    "\n",
    "For columns with discrete or categorical values like ethinity or marital status (as opposed to values with numerical values, like age or BMI), we will use the `value_counts` function in pandas to display the counts of each unique value present in a given column (feature) across the entire dataset.\n",
    "\n",
    "Let's investigate the distribution of biological sex in our critical care dataset:"
   ]
  },
  {
   "cell_type": "code",
   "execution_count": 2,
   "id": "93f947ad",
   "metadata": {},
   "outputs": [
    {
     "data": {
      "text/plain": [
       "sex\n",
       "FEMALE    501\n",
       "MALE      499\n",
       "Name: count, dtype: int64"
      ]
     },
     "execution_count": 2,
     "metadata": {},
     "output_type": "execute_result"
    }
   ],
   "source": [
    "df['sex'].value_counts()"
   ]
  },
  {
   "cell_type": "markdown",
   "id": "3ff8757c",
   "metadata": {},
   "source": [
    "In our cohort of 10,000 patients, there are 5,110 males and 4,890 females. the `value_counts` function also accepts an **parameter** named `normalize`, which if set to `True` will return the **fraction** of the overall cohort represented by each category."
   ]
  },
  {
   "cell_type": "code",
   "execution_count": 3,
   "id": "c8be317b",
   "metadata": {},
   "outputs": [
    {
     "data": {
      "text/plain": [
       "sex\n",
       "FEMALE    0.501\n",
       "MALE      0.499\n",
       "Name: proportion, dtype: float64"
      ]
     },
     "execution_count": 3,
     "metadata": {},
     "output_type": "execute_result"
    }
   ],
   "source": [
    "df['sex'].value_counts(normalize=True)"
   ]
  },
  {
   "cell_type": "markdown",
   "id": "2d515e40",
   "metadata": {},
   "source": [
    "We can see that males represent 51.1% of our cohort, and females make up 48.9%."
   ]
  },
  {
   "cell_type": "markdown",
   "id": "3cad9679",
   "metadata": {},
   "source": [
    "We can repeat the same analysis for race, where we can see that certain races have been grouped:"
   ]
  },
  {
   "cell_type": "code",
   "execution_count": 4,
   "id": "806847bd",
   "metadata": {},
   "outputs": [
    {
     "data": {
      "text/plain": [
       "race\n",
       "WHITE      0.789\n",
       "AA         0.134\n",
       "OTHER      0.061\n",
       "MISSING    0.016\n",
       "Name: proportion, dtype: float64"
      ]
     },
     "execution_count": 4,
     "metadata": {},
     "output_type": "execute_result"
    }
   ],
   "source": [
    "df['race'].value_counts(normalize=True)"
   ]
  },
  {
   "cell_type": "markdown",
   "id": "c396915d",
   "metadata": {},
   "source": [
    "Since `age` is a numerical variable, we will use a histogram to visualize its distribution. This can be accomplished with the pandas function `hist`, and specifying the `age` column in the function parameter `column`. "
   ]
  },
  {
   "cell_type": "code",
   "execution_count": 5,
   "id": "e6640222",
   "metadata": {},
   "outputs": [
    {
     "data": {
      "text/plain": [
       "array([[<Axes: title={'center': 'age'}>]], dtype=object)"
      ]
     },
     "execution_count": 5,
     "metadata": {},
     "output_type": "execute_result"
    },
    {
     "data": {
      "image/png": "[encoded data removed]",
      "text/plain": [
       "<Figure size 640x480 with 1 Axes>"
      ]
     },
     "metadata": {},
     "output_type": "display_data"
    }
   ],
   "source": [
    "df.hist(column='age')"
   ]
  },
  {
   "cell_type": "code",
   "execution_count": 6,
   "id": "5a079d12",
   "metadata": {},
   "outputs": [
    {
     "data": {
      "text/plain": [
       "count    1000.000000\n",
       "mean       58.386322\n",
       "std        17.432950\n",
       "min         2.209700\n",
       "25%        47.211600\n",
       "50%        57.647450\n",
       "75%        69.649750\n",
       "max       109.172100\n",
       "Name: age, dtype: float64"
      ]
     },
     "execution_count": 6,
     "metadata": {},
     "output_type": "execute_result"
    }
   ],
   "source": [
    "df['age'].describe()"
   ]
  },
  {
   "cell_type": "markdown",
   "id": "05b688f9",
   "metadata": {},
   "source": [
    "We can control the granularity of our histogram by modifying the `bins` parameter, which is set at 10 by default."
   ]
  },
  {
   "cell_type": "code",
   "execution_count": 7,
   "id": "3420c9b8",
   "metadata": {},
   "outputs": [
    {
     "data": {
      "text/plain": [
       "array([[<Axes: title={'center': 'age'}>]], dtype=object)"
      ]
     },
     "execution_count": 7,
     "metadata": {},
     "output_type": "execute_result"
    },
    {
     "data": {
      "image/png": "[encoded data removed]",
      "text/plain": [
       "<Figure size 640x480 with 1 Axes>"
      ]
     },
     "metadata": {},
     "output_type": "display_data"
    }
   ],
   "source": [
    "df.hist(column='age', bins=72)"
   ]
  },
  {
   "cell_type": "markdown",
   "id": "6e2284cd",
   "metadata": {},
   "source": [
    "We can also quickly understand some key statistics about a particular patient attribute using the `describe` function on a particular DataFrame column. By default, `describe` will display the mean, median, standard deviation, minimum value, maximum value, and 25th and 75th percentile values."
   ]
  },
  {
   "cell_type": "code",
   "execution_count": 8,
   "id": "6a3ef517",
   "metadata": {},
   "outputs": [
    {
     "data": {
      "text/plain": [
       "count    1000.000000\n",
       "mean       58.386322\n",
       "std        17.432950\n",
       "min         2.209700\n",
       "25%        47.211600\n",
       "50%        57.647450\n",
       "75%        69.649750\n",
       "max       109.172100\n",
       "Name: age, dtype: float64"
      ]
     },
     "execution_count": 8,
     "metadata": {},
     "output_type": "execute_result"
    }
   ],
   "source": [
    "df['age'].describe()"
   ]
  },
  {
   "cell_type": "markdown",
   "id": "40bfcfdf",
   "metadata": {},
   "source": [
    "# Machine learning in the ICU\n",
    "Let's revisit our machine learning model for predicting the risk of AKI in the ICU.\n",
    "\n",
    "Machine learning bias has the potential to manifest in several ways. Consider one example: certain groups of patients with higher predicted risk of AKI may be triaged differently and receive an inequitable allocation of limited ICU resources.\n",
    "\n",
    "Let's train an XGBoost classifier to predict AKI. As we saw in the previous notebook, we will develop the model using 80% of the patients, reserving the other 20% for evaluating the model's performance (including estimates of its bias). As before, we will use a fully preprocessed dataset to focus this lesson on model predictions.\n",
    "\n",
    "In our DataFrame `df`, the first 48 columns are input features (`X`), and the final column (`aki_surg_disch`) is our target prediction label `y`."
   ]
  },
  {
   "cell_type": "code",
   "execution_count": 9,
   "id": "39ed403f",
   "metadata": {},
   "outputs": [
    {
     "data": {
      "text/html": [
       "<div>\n",
       "<style scoped>\n",
       "    .dataframe tbody tr th:only-of-type {\n",
       "        vertical-align: middle;\n",
       "    }\n",
       "\n",
       "    .dataframe tbody tr th {\n",
       "        vertical-align: top;\n",
       "    }\n",
       "\n",
       "    .dataframe thead th {\n",
       "        text-align: right;\n",
       "    }\n",
       "</style>\n",
       "<table border=\"1\" class=\"dataframe\">\n",
       "  <thead>\n",
       "    <tr style=\"text-align: right;\">\n",
       "      <th></th>\n",
       "      <th>sex</th>\n",
       "      <th>ethnicity</th>\n",
       "      <th>race</th>\n",
       "      <th>language</th>\n",
       "      <th>marital_status</th>\n",
       "      <th>age</th>\n",
       "      <th>bmi</th>\n",
       "      <th>admission_source</th>\n",
       "      <th>emergent</th>\n",
       "      <th>surgery_type</th>\n",
       "      <th>...</th>\n",
       "      <th>valve</th>\n",
       "      <th>coag</th>\n",
       "      <th>obese</th>\n",
       "      <th>wghtloss</th>\n",
       "      <th>lytes</th>\n",
       "      <th>anemia</th>\n",
       "      <th>alc_drug</th>\n",
       "      <th>depress</th>\n",
       "      <th>egfr</th>\n",
       "      <th>aki</th>\n",
       "    </tr>\n",
       "    <tr>\n",
       "      <th>patient_id</th>\n",
       "      <th></th>\n",
       "      <th></th>\n",
       "      <th></th>\n",
       "      <th></th>\n",
       "      <th></th>\n",
       "      <th></th>\n",
       "      <th></th>\n",
       "      <th></th>\n",
       "      <th></th>\n",
       "      <th></th>\n",
       "      <th></th>\n",
       "      <th></th>\n",
       "      <th></th>\n",
       "      <th></th>\n",
       "      <th></th>\n",
       "      <th></th>\n",
       "      <th></th>\n",
       "      <th></th>\n",
       "      <th></th>\n",
       "      <th></th>\n",
       "      <th></th>\n",
       "    </tr>\n",
       "  </thead>\n",
       "  <tbody>\n",
       "    <tr>\n",
       "      <th>0</th>\n",
       "      <td>0.978237</td>\n",
       "      <td>0.263234</td>\n",
       "      <td>-0.203467</td>\n",
       "      <td>0.136533</td>\n",
       "      <td>-1.017430</td>\n",
       "      <td>-0.684920</td>\n",
       "      <td>-0.833419</td>\n",
       "      <td>-0.441135</td>\n",
       "      <td>-0.761596</td>\n",
       "      <td>-0.580013</td>\n",
       "      <td>...</td>\n",
       "      <td>-0.445011</td>\n",
       "      <td>-0.382959</td>\n",
       "      <td>-0.849218</td>\n",
       "      <td>-0.420578</td>\n",
       "      <td>-0.749675</td>\n",
       "      <td>-0.567958</td>\n",
       "      <td>2.357409</td>\n",
       "      <td>-0.645470</td>\n",
       "      <td>0.783296</td>\n",
       "      <td>0</td>\n",
       "    </tr>\n",
       "    <tr>\n",
       "      <th>1</th>\n",
       "      <td>-1.022247</td>\n",
       "      <td>0.263234</td>\n",
       "      <td>2.315985</td>\n",
       "      <td>0.136533</td>\n",
       "      <td>-1.017430</td>\n",
       "      <td>-1.259334</td>\n",
       "      <td>-0.523094</td>\n",
       "      <td>-0.441135</td>\n",
       "      <td>-0.761596</td>\n",
       "      <td>-0.764786</td>\n",
       "      <td>...</td>\n",
       "      <td>-0.445011</td>\n",
       "      <td>-0.382959</td>\n",
       "      <td>-0.849218</td>\n",
       "      <td>-0.420578</td>\n",
       "      <td>-0.749675</td>\n",
       "      <td>-0.567958</td>\n",
       "      <td>-0.424195</td>\n",
       "      <td>1.549259</td>\n",
       "      <td>0.052083</td>\n",
       "      <td>0</td>\n",
       "    </tr>\n",
       "    <tr>\n",
       "      <th>2</th>\n",
       "      <td>-1.022247</td>\n",
       "      <td>0.263234</td>\n",
       "      <td>-0.203467</td>\n",
       "      <td>0.136533</td>\n",
       "      <td>0.144422</td>\n",
       "      <td>1.038322</td>\n",
       "      <td>0.377905</td>\n",
       "      <td>-0.441135</td>\n",
       "      <td>1.313032</td>\n",
       "      <td>-0.960256</td>\n",
       "      <td>...</td>\n",
       "      <td>-0.445011</td>\n",
       "      <td>-0.382959</td>\n",
       "      <td>1.177555</td>\n",
       "      <td>-0.420578</td>\n",
       "      <td>-0.749675</td>\n",
       "      <td>-0.567958</td>\n",
       "      <td>-0.424195</td>\n",
       "      <td>1.549259</td>\n",
       "      <td>-0.357553</td>\n",
       "      <td>0</td>\n",
       "    </tr>\n",
       "    <tr>\n",
       "      <th>3</th>\n",
       "      <td>-1.022247</td>\n",
       "      <td>0.263234</td>\n",
       "      <td>2.315985</td>\n",
       "      <td>0.136533</td>\n",
       "      <td>0.144422</td>\n",
       "      <td>0.463908</td>\n",
       "      <td>3.470699</td>\n",
       "      <td>-0.441135</td>\n",
       "      <td>1.313032</td>\n",
       "      <td>0.750591</td>\n",
       "      <td>...</td>\n",
       "      <td>2.247133</td>\n",
       "      <td>2.611247</td>\n",
       "      <td>1.177555</td>\n",
       "      <td>-0.420578</td>\n",
       "      <td>1.333912</td>\n",
       "      <td>1.760693</td>\n",
       "      <td>-0.424195</td>\n",
       "      <td>1.549259</td>\n",
       "      <td>-0.789798</td>\n",
       "      <td>0</td>\n",
       "    </tr>\n",
       "    <tr>\n",
       "      <th>4</th>\n",
       "      <td>0.978237</td>\n",
       "      <td>0.263234</td>\n",
       "      <td>-0.203467</td>\n",
       "      <td>0.136533</td>\n",
       "      <td>0.144422</td>\n",
       "      <td>0.751115</td>\n",
       "      <td>0.013019</td>\n",
       "      <td>-0.441135</td>\n",
       "      <td>-0.761596</td>\n",
       "      <td>1.058746</td>\n",
       "      <td>...</td>\n",
       "      <td>2.247133</td>\n",
       "      <td>-0.382959</td>\n",
       "      <td>1.177555</td>\n",
       "      <td>-0.420578</td>\n",
       "      <td>1.333912</td>\n",
       "      <td>-0.567958</td>\n",
       "      <td>-0.424195</td>\n",
       "      <td>1.549259</td>\n",
       "      <td>-1.845950</td>\n",
       "      <td>1</td>\n",
       "    </tr>\n",
       "  </tbody>\n",
       "</table>\n",
       "<p>5 rows × 48 columns</p>\n",
       "</div>"
      ],
      "text/plain": [
       "                 sex  ethnicity      race  language  marital_status       age  \\\n",
       "patient_id                                                                      \n",
       "0           0.978237   0.263234 -0.203467  0.136533       -1.017430 -0.684920   \n",
       "1          -1.022247   0.263234  2.315985  0.136533       -1.017430 -1.259334   \n",
       "2          -1.022247   0.263234 -0.203467  0.136533        0.144422  1.038322   \n",
       "3          -1.022247   0.263234  2.315985  0.136533        0.144422  0.463908   \n",
       "4           0.978237   0.263234 -0.203467  0.136533        0.144422  0.751115   \n",
       "\n",
       "                 bmi  admission_source  emergent  surgery_type  ...     valve  \\\n",
       "patient_id                                                      ...             \n",
       "0          -0.833419         -0.441135 -0.761596     -0.580013  ... -0.445011   \n",
       "1          -0.523094         -0.441135 -0.761596     -0.764786  ... -0.445011   \n",
       "2           0.377905         -0.441135  1.313032     -0.960256  ... -0.445011   \n",
       "3           3.470699         -0.441135  1.313032      0.750591  ...  2.247133   \n",
       "4           0.013019         -0.441135 -0.761596      1.058746  ...  2.247133   \n",
       "\n",
       "                coag     obese  wghtloss     lytes    anemia  alc_drug  \\\n",
       "patient_id                                                               \n",
       "0          -0.382959 -0.849218 -0.420578 -0.749675 -0.567958  2.357409   \n",
       "1          -0.382959 -0.849218 -0.420578 -0.749675 -0.567958 -0.424195   \n",
       "2          -0.382959  1.177555 -0.420578 -0.749675 -0.567958 -0.424195   \n",
       "3           2.611247  1.177555 -0.420578  1.333912  1.760693 -0.424195   \n",
       "4          -0.382959  1.177555 -0.420578  1.333912 -0.567958 -0.424195   \n",
       "\n",
       "             depress      egfr  aki  \n",
       "patient_id                           \n",
       "0          -0.645470  0.783296    0  \n",
       "1           1.549259  0.052083    0  \n",
       "2           1.549259 -0.357553    0  \n",
       "3           1.549259 -0.789798    0  \n",
       "4           1.549259 -1.845950    1  \n",
       "\n",
       "[5 rows x 48 columns]"
      ]
     },
     "execution_count": 9,
     "metadata": {},
     "output_type": "execute_result"
    }
   ],
   "source": [
    "from sklearn.model_selection import train_test_split\n",
    "import xgboost as xgb\n",
    "from sklearn.metrics import roc_auc_score, accuracy_score\n",
    "\n",
    "df_processed = pd.read_csv('https://www.dropbox.com/scl/fi/zzsy0dlbwn8vqk9vaqaar/data_processed.csv?rlkey=05u63ywmemb3ubu9kday4p23g&dl=1', index_col='patient_id')\n",
    "df_processed.head()"
   ]
  },
  {
   "cell_type": "code",
   "execution_count": 10,
   "id": "c1b141dd",
   "metadata": {},
   "outputs": [],
   "source": [
    "df_train, df_test, df_raw_train, df_raw_test = train_test_split(df_processed, df, test_size=0.2) # Split data into training and testing sets\n",
    "\n",
    "X_train = df_train.values[:, :-1] # Use every column except the last one (which is the outcome we are predicting)\n",
    "X_test = df_test.values[:, :-1] # Use every column except the last one (which is the outcome we are predicting)\n",
    "y_train = df_train.values[:, -1] # Use the last column only (which is the outcome)\n",
    "y_test = df_test.values[:, -1] # Use the last column only (which is the outcome)\n",
    "\n",
    "clf = xgb.XGBClassifier() # Create new XGBoost classifier\n",
    "clf.fit(X_train, y_train) # Train our XGBoost classifier to predict AKI\n",
    "\n",
    "y_predicted_probabilities = clf.predict_proba(X_test)[:, 1] # Probability that each test patient develops AKI"
   ]
  },
  {
   "cell_type": "markdown",
   "id": "0b2397b6",
   "metadata": {},
   "source": [
    "Let's examine the AKI probabilities for the first 10 patients in our validation set of 2,000 patients:"
   ]
  },
  {
   "cell_type": "code",
   "execution_count": 11,
   "id": "c3d74919",
   "metadata": {},
   "outputs": [
    {
     "data": {
      "text/plain": [
       "array([0.0008653 , 0.02343408, 0.08113318, 0.02669731, 0.10184404,\n",
       "       0.00321315, 0.00354862, 0.05776616, 0.18069072, 0.01783818],\n",
       "      dtype=float32)"
      ]
     },
     "execution_count": 11,
     "metadata": {},
     "output_type": "execute_result"
    }
   ],
   "source": [
    "y_predicted_probabilities[:10]"
   ]
  },
  {
   "cell_type": "markdown",
   "id": "0c051e96",
   "metadata": {},
   "source": [
    "We can compute the AUC (more specifically, the AUROC: area under the receiver operating characteristic curve) using the `roc_auc_score` function in scikit-learn:"
   ]
  },
  {
   "cell_type": "code",
   "execution_count": 12,
   "id": "97b6764c",
   "metadata": {},
   "outputs": [
    {
     "data": {
      "text/plain": [
       "0.6548571428571429"
      ]
     },
     "execution_count": 12,
     "metadata": {},
     "output_type": "execute_result"
    }
   ],
   "source": [
    "y_true = y_test # Create a new variable name for clarity (this is the ground truth AKI labels [0 or 1 for each patient])\n",
    "\n",
    "roc_auc_score(y_true, y_predicted_probabilities) # This compute's the AUC (AUROC)"
   ]
  },
  {
   "cell_type": "markdown",
   "id": "3ab0aab7",
   "metadata": {},
   "source": [
    "For the purposes of evaluating model fairness, we will define two categories based on these probabilities: **Low AKI risk** and **High AKI risk**. We will use the Youden index (sensitivity + specificity -1) to select an optimal probability threshold to differentiate between low risk and high risk."
   ]
  },
  {
   "cell_type": "code",
   "execution_count": 13,
   "id": "061b4f84",
   "metadata": {},
   "outputs": [
    {
     "name": "stdout",
     "output_type": "stream",
     "text": [
      "Optimal risk threshold = 0.021\n"
     ]
    },
    {
     "data": {
      "text/plain": [
       "array([0, 1, 1, 1, 1, 0, 0, 1, 1, 0, 0, 0, 0, 1, 0, 1, 1, 0, 0, 1, 0, 0,\n",
       "       0, 0, 0, 1, 1, 0, 1, 1, 0, 0, 0, 0, 1, 1, 1, 0, 1, 1, 0, 1, 0, 0,\n",
       "       0, 0, 1, 1, 1, 1, 0, 1, 1, 0, 0, 1, 1, 0, 1, 0, 1, 1, 1, 1, 0, 0,\n",
       "       1, 1, 0, 1, 0, 0, 0, 1, 1, 0, 1, 0, 1, 0, 1, 1, 1, 0, 1, 1, 1, 0,\n",
       "       1, 0, 0, 1, 0, 0, 0, 1, 0, 1, 1, 0, 1, 0, 0, 0, 0, 0, 0, 0, 0, 0,\n",
       "       0, 0, 0, 1, 0, 0, 1, 1, 0, 1, 0, 1, 0, 0, 1, 0, 1, 0, 0, 1, 0, 0,\n",
       "       0, 1, 1, 1, 0, 0, 1, 1, 1, 0, 0, 1, 0, 0, 1, 1, 1, 1, 0, 1, 0, 1,\n",
       "       0, 1, 1, 1, 0, 0, 1, 1, 0, 0, 0, 1, 1, 0, 1, 0, 0, 1, 1, 1, 0, 1,\n",
       "       0, 1, 1, 1, 1, 1, 0, 1, 0, 1, 0, 1, 1, 0, 1, 1, 0, 0, 0, 1, 0, 1,\n",
       "       1, 0])"
      ]
     },
     "execution_count": 13,
     "metadata": {},
     "output_type": "execute_result"
    }
   ],
   "source": [
    "import numpy as np\n",
    "from sklearn.metrics import roc_curve, recall_score, accuracy_score\n",
    "\n",
    "def youden_probability_to_categories(y_true, y_predicted):\n",
    "    fpr, tpr, thresholds = roc_curve(y_test, y_predicted_probabilities)\n",
    "    optimal_threshold = thresholds[np.argmax(tpr - fpr)]\n",
    "    print(f'Optimal risk threshold = {optimal_threshold:.3f}')\n",
    "    risk_categories = (y_predicted_probabilities >= optimal_threshold).astype('int') # Any probability >= the threshold will be assigned a risk category of 1. Otherwise, the category will be 0.\n",
    "    return risk_categories\n",
    "\n",
    "risk_categories = youden_probability_to_categories(y_true, y_predicted_probabilities)\n",
    "risk_categories"
   ]
  },
  {
   "cell_type": "markdown",
   "id": "b68f7121",
   "metadata": {},
   "source": [
    "### What does it mean for a model to be \"unfair\"?\n",
    "AI systems can behave unfairly for a variety of reasons. Sometimes it is because of societal biases reflected in the training data and in the decisions made during the development and deployment of these systems. In other cases, AI systems behave unfairly not because of societal biases, but because of characteristics of the data (e.g., too few data points about some group of people) or characteristics of the systems themselves. It can be hard to distinguish between these reasons, especially since they are not mutually exclusive and often exacerbate one another.\n",
    "\n",
    "The goal of fairness assessment is to answer the following question: **Which groups of people may be disproportionately negatively impacted by an AI system, and in what ways?**\n",
    "\n",
    "We will demonstrate the application of two fairness metrics that are commonly used to evaluate fairness of algorithmic decsion-making. We will make use of the [Fairlearn](https://fairlearn.org) library to perform our calculations."
   ]
  },
  {
   "cell_type": "markdown",
   "id": "e9d3c4c8",
   "metadata": {},
   "source": [
    "### **⚖️ Fairness Metric #1: `Demographic parity`**\n",
    "Demographic parity is a fairness metric whose goal is to ensure a machine learning model’s predictions are independent of membership in a sensitive group. In other words, demographic parity is achieved when the probability of a certain prediction is not dependent on sensitive group membership. In the binary classification scenario, demographic parity refers to equal selection rates across groups. For example, in the context of a resume screening model, equal selection would mean that the proportion of applicants selected for a job interview should be equal across groups. In the context of AKI prediction in critical care settings, **the selection rate will be the proportion of patients predicted to be at high risk of AKI**. Demographic parity is also sometimes referred to as *independence*, *group fairness*, *statistical parity*, and *disparate impact*.\n",
    "\n",
    "Failing to achieve demographic parity could generate allocation harms. Allocation harms occur when AI systems allocate opportunities, resources, or information differently across different groups (for example, an AI hiring system that is more likely to advance resumes of male applicants than resumes of female applicants regardless of qualification). Demographic parity can be used to assess the extent of allocation harms because it reflects an assumption that resources should be allocated proportionally across groups. Of the metrics described in this section, it can be the easiest to implement.\n",
    "\n",
    "Operationalizing fairness using demographic parity rests on a few assumptions:\n",
    "* Either the dataset is not a good representation of what the world actually looks like (e.g., a resume assessment system that is more likely to filter out qualified female applicants due to an organizational bias towards male applicants, regardless of skill level)\n",
    "* Or, the dataset is an accurate representation of the phenomena being modeled, but the phenomena itself is unjust (e.g., consider the case of predictive policing, where a system created to predict crime rates may correctly predict higher crime rates for certain areas, but simultaneously fail to consider that those higher rates may be caused by disproportionate policing and overcriminimalization of those areas).\n",
    "\n",
    "In reality, these assumptions may not be the true. The dataset might be an accurate representation of the phenomena itself, or the phenomena being modeled may not be unjust. If either assumption is not true, then demographic parity may not provide a meaningful or useful measurement of the fairness of a model’s predictions."
   ]
  },
  {
   "cell_type": "markdown",
   "id": "c568bd62",
   "metadata": {},
   "source": [
    "We will assess demographic parity in our AKI risk predictions using the `demographic_parity_difference` function from Fairlearn. This function reports the absolute difference between the highest and lowest selection rates (proportion of high risk patients). In other words, it will report the difference between the proportion of high-risk AKI patients (as predicted by our model) for a specified group (e.g., males) with the largest high-risk proportion, and the proportion of high-risk AKI patients for the group with the lowest high-risk proportion. **A result of 0 indicates that perfect demographic parity has been achieved**, while values further from 0 indicate a larger disparity between groups.\n",
    "\n",
    "For clarity, we will use the original, un-processed patient characteristics from the `df_raw_test` DataFrame for all fairness metric evaluations."
   ]
  },
  {
   "cell_type": "markdown",
   "id": "0f362c8b",
   "metadata": {},
   "source": [
    "Let's start by computing the demographic parity for the `sex` variable (values closer to 0 represent \"fairer\" models in this context):"
   ]
  },
  {
   "cell_type": "code",
   "execution_count": 14,
   "id": "71e79b04",
   "metadata": {},
   "outputs": [
    {
     "name": "stdout",
     "output_type": "stream",
     "text": [
      "0.0702280912364946\n"
     ]
    },
    {
     "name": "stderr",
     "output_type": "stream",
     "text": [
      "/opt/homebrew/anaconda3/envs/main/lib/python3.11/site-packages/fairlearn/metrics/_disaggregated_result.py:231: FutureWarning: DataFrame.applymap has been deprecated. Use DataFrame.map instead.\n",
      "  mf = mf.applymap(lambda x: x if np.isscalar(x) else np.nan)\n"
     ]
    }
   ],
   "source": [
    "from fairlearn.metrics import demographic_parity_difference\n",
    "\n",
    "print(demographic_parity_difference(y_true, risk_categories, sensitive_features=df_raw_test['sex']))"
   ]
  },
  {
   "cell_type": "markdown",
   "id": "4ea71ab6",
   "metadata": {},
   "source": [
    "Next, we'll compute the demographic parity for the `race` variable:"
   ]
  },
  {
   "cell_type": "code",
   "execution_count": 15,
   "id": "5ae44657",
   "metadata": {},
   "outputs": [
    {
     "name": "stderr",
     "output_type": "stream",
     "text": [
      "/opt/homebrew/anaconda3/envs/main/lib/python3.11/site-packages/fairlearn/metrics/_disaggregated_result.py:231: FutureWarning: DataFrame.applymap has been deprecated. Use DataFrame.map instead.\n",
      "  mf = mf.applymap(lambda x: x if np.isscalar(x) else np.nan)\n"
     ]
    },
    {
     "data": {
      "text/plain": [
       "0.038461538461538436"
      ]
     },
     "execution_count": 15,
     "metadata": {},
     "output_type": "execute_result"
    }
   ],
   "source": [
    "demographic_parity_difference(y_true,risk_categories, sensitive_features=df_raw_test['race'])"
   ]
  },
  {
   "cell_type": "markdown",
   "id": "edc12805",
   "metadata": {},
   "source": [
    "For the purposes of analyzing fairness across patient groups, we will not treat individual ages (e.g., 50 years old, 51 years old, etc.) as distinct groups. Instead, we will define groups of patients based on age ranges. For this demonstration, we will create a new column called `age_group` that records which quartile the patient's age falls into. We call these categories Youngest, Younger, Older, and Oldest."
   ]
  },
  {
   "cell_type": "code",
   "execution_count": 16,
   "id": "c4e034a2",
   "metadata": {},
   "outputs": [],
   "source": [
    "# Group ages into 4 categories (Youngest, Younger, Older Oldest)\n",
    "df_raw_test['age_group'] = pd.cut(df_raw_test['age'], include_lowest=True, bins=np.quantile(df_raw_test['age'], [0.0, 0.25, 0.5, 0.75, 1.0]), \n",
    "                                  labels=['Youngest', 'Younger', 'Older', 'Oldest'])\n"
   ]
  },
  {
   "cell_type": "markdown",
   "id": "88e18d57",
   "metadata": {},
   "source": [
    "Now we can compute the demographic parity difference for patient age groups:"
   ]
  },
  {
   "cell_type": "code",
   "execution_count": 17,
   "id": "54086b60",
   "metadata": {},
   "outputs": [
    {
     "name": "stderr",
     "output_type": "stream",
     "text": [
      "/opt/homebrew/anaconda3/envs/main/lib/python3.11/site-packages/fairlearn/metrics/_disaggregated_result.py:231: FutureWarning: DataFrame.applymap has been deprecated. Use DataFrame.map instead.\n",
      "  mf = mf.applymap(lambda x: x if np.isscalar(x) else np.nan)\n"
     ]
    },
    {
     "data": {
      "text/plain": [
       "0.3"
      ]
     },
     "execution_count": 17,
     "metadata": {},
     "output_type": "execute_result"
    }
   ],
   "source": [
    "demographic_parity_difference(y_true, risk_categories, sensitive_features=df_raw_test['age_group'])"
   ]
  },
  {
   "cell_type": "markdown",
   "id": "545513fb",
   "metadata": {},
   "source": [
    "### **⚖️ Fairness Metric #2: `Equalized Odds`**\n",
    "The goal of the equalized odds fairness metric is to ensure a machine learning model performs equally well for different groups. It is stricter than demographic parity because it requires that the machine learning model’s predictions are not only independent of sensitive group membership, but that groups have the same false positive rates and and true positive rates. This distinction is important because a model could achieve demographic parity (i.e., its predictions could be independent of sensitive group membership), but still generate more false positive predictions for one group versus others.\n",
    "\n",
    "Equalized odds does not create the selection issue discussed in the demographic parity section above. For example, in the hiring scenario where the goal is to choose applicants from group A and group B, ensuring the model performs equally well at choosing applicants from group A and group B can circumvent the issue of the model optimizing by selecting applicants from one group at random.\n",
    "\n",
    "A classifier satisfies equalized odds if its performance is the same regardless of group membership. In other words, equalized odds requires that the **true positive rate** (the proportion of patients who developed AKI and were classified as high risk) and the **false positive rate** (the proportion of patients who did not develop AKI but were predicted as high risk) be equal across groups.\n",
    "\n",
    "The inclusion of false positive rates acknowledges that different groups experience different costs from misclassification. For example, in the case of a model predicting a negative outcome (e.g., probability of recidivating) that already disproportionately affects members of minority communities, false positive predictions reflect pre-existing disparities in outcomes across minority and majority groups. Equalized odds further enforces that the accuracy is equally high across all groups, punishing models that only perform well on majority groups.\n",
    "\n",
    "Another way to think about equalized odds is to contrast it with demographic parity. While demographic parity assesses the allocation of resources generally, equalized odds focuses on the allocation of resources that were actually distributed to members of that group (assuming that patients who developed AKI were allocated more resources)."
   ]
  },
  {
   "cell_type": "markdown",
   "id": "aad97eac",
   "metadata": {},
   "source": [
    "We will use the Fairlearn function `equalized_odds_difference` to compute equalized odds metrics for our sensitive attributes, and calculate the difference among groups (similar to our demographic parity exercise). As before, differences closer to zero imply \"fairer\" models according to equalized odds.\n",
    "\n",
    "First, let's examine equalized odds in the contenxt of biological sex:"
   ]
  },
  {
   "cell_type": "code",
   "execution_count": 18,
   "id": "63b24291",
   "metadata": {},
   "outputs": [
    {
     "name": "stdout",
     "output_type": "stream",
     "text": [
      "0.261904761904762\n"
     ]
    },
    {
     "name": "stderr",
     "output_type": "stream",
     "text": [
      "/opt/homebrew/anaconda3/envs/main/lib/python3.11/site-packages/fairlearn/metrics/_disaggregated_result.py:231: FutureWarning: DataFrame.applymap has been deprecated. Use DataFrame.map instead.\n",
      "  mf = mf.applymap(lambda x: x if np.isscalar(x) else np.nan)\n"
     ]
    }
   ],
   "source": [
    "from fairlearn.metrics import equalized_odds_difference\n",
    "\n",
    "print(equalized_odds_difference(y_true, risk_categories, sensitive_features=df_raw_test['sex']))"
   ]
  },
  {
   "cell_type": "markdown",
   "id": "c92ca19f",
   "metadata": {},
   "source": [
    "We can perform a similar calculation for `race`:"
   ]
  },
  {
   "cell_type": "code",
   "execution_count": 19,
   "id": "18ad9ab2",
   "metadata": {},
   "outputs": [
    {
     "name": "stdout",
     "output_type": "stream",
     "text": [
      "1.0\n"
     ]
    },
    {
     "name": "stderr",
     "output_type": "stream",
     "text": [
      "/opt/homebrew/anaconda3/envs/main/lib/python3.11/site-packages/fairlearn/metrics/_disaggregated_result.py:231: FutureWarning: DataFrame.applymap has been deprecated. Use DataFrame.map instead.\n",
      "  mf = mf.applymap(lambda x: x if np.isscalar(x) else np.nan)\n"
     ]
    }
   ],
   "source": [
    "print(equalized_odds_difference(y_true, risk_categories, sensitive_features=df_raw_test['race']))"
   ]
  },
  {
   "cell_type": "markdown",
   "id": "595cc6e5",
   "metadata": {},
   "source": [
    "Finally, we will compute the difference in equalized odds for `age_group`:"
   ]
  },
  {
   "cell_type": "code",
   "execution_count": 20,
   "id": "4ec8b62f",
   "metadata": {},
   "outputs": [
    {
     "name": "stdout",
     "output_type": "stream",
     "text": [
      "0.9\n"
     ]
    },
    {
     "name": "stderr",
     "output_type": "stream",
     "text": [
      "/opt/homebrew/anaconda3/envs/main/lib/python3.11/site-packages/fairlearn/metrics/_disaggregated_result.py:231: FutureWarning: DataFrame.applymap has been deprecated. Use DataFrame.map instead.\n",
      "  mf = mf.applymap(lambda x: x if np.isscalar(x) else np.nan)\n"
     ]
    }
   ],
   "source": [
    "print(equalized_odds_difference(y_true, risk_categories, sensitive_features=df_raw_test['age_group']))"
   ]
  },
  {
   "cell_type": "markdown",
   "id": "9246d946-4e9c-4130-9594-ac868b819b99",
   "metadata": {},
   "source": [
    "### Additional quantitative measures of fairness\n",
    "Demographic Parity and Equalized Oodds are but two overly simplified tools in a toolbox of increasing complexity, [nuance](https://www.nature.com/articles/s41598-022-07939-1), and [debate](https://www.ncbi.nlm.nih.gov/pmc/articles/PMC10502051/). The prevention, detection, and remediation of bias in machine learning remains an active area of research."
   ]
  },
  {
   "cell_type": "markdown",
   "id": "75c0e71d",
   "metadata": {},
   "source": [
    "# 🎨 Visualizing Fairness\n",
    "We can use Fairlearn's `MetricFrame` and its plotting tools to visualize performance metrics for each patient group. In this example, we'll focus on accuracy and sensitivity.\n",
    "\n",
    "First, let's visualize the relative performance for the biological `sex` variable:"
   ]
  },
  {
   "cell_type": "code",
   "execution_count": 21,
   "id": "e8166460",
   "metadata": {},
   "outputs": [
    {
     "data": {
      "text/plain": [
       "array([[<Axes: title={'center': 'Accuracy'}, xlabel='sex'>,\n",
       "        <Axes: title={'center': 'Sensitivity'}, xlabel='sex'>]],\n",
       "      dtype=object)"
      ]
     },
     "execution_count": 21,
     "metadata": {},
     "output_type": "execute_result"
    },
    {
     "data": {
      "image/png": "[encoded data removed]",
      "text/plain": [
       "<Figure size 1200x300 with 2 Axes>"
      ]
     },
     "metadata": {},
     "output_type": "display_data"
    }
   ],
   "source": [
    "from fairlearn.metrics import MetricFrame\n",
    "from fairlearn.experimental.enable_metric_frame_plotting import plot_metric_frame\n",
    "\n",
    "# Create a MetricFrame (similar to a Pandas DataFrame) for biological sex, that stores predictions and performance metrics for each group\n",
    "mf = MetricFrame(\n",
    "    metrics={'Accuracy': accuracy_score,\n",
    "             'Sensitivity': recall_score},\n",
    "    y_true=y_true,\n",
    "    y_pred=risk_categories,\n",
    "    sensitive_features=df_raw_test['sex'],\n",
    ")\n",
    "\n",
    "# Plot the specified performance metrics for each biological sex\n",
    "mf.by_group.plot.bar(subplots=True, figsize=[12,3], layout=[1,2], legend=False)"
   ]
  },
  {
   "cell_type": "markdown",
   "id": "76a2fd0f",
   "metadata": {},
   "source": [
    "We can do the same for race:"
   ]
  },
  {
   "cell_type": "code",
   "execution_count": 22,
   "id": "bd0d9c71",
   "metadata": {},
   "outputs": [
    {
     "data": {
      "text/plain": [
       "array([[<Axes: title={'center': 'Accuracy'}, xlabel='race'>,\n",
       "        <Axes: title={'center': 'Sensitivity'}, xlabel='race'>]],\n",
       "      dtype=object)"
      ]
     },
     "execution_count": 22,
     "metadata": {},
     "output_type": "execute_result"
    },
    {
     "data": {
      "image/png": "[encoded data removed]",
      "text/plain": [
       "<Figure size 1200x300 with 2 Axes>"
      ]
     },
     "metadata": {},
     "output_type": "display_data"
    }
   ],
   "source": [
    "# Create a MetricFrame (similar to a Pandas DataFrame) for race, that stores predictions and performance metrics for each group\n",
    "mf = MetricFrame(\n",
    "    metrics={'Accuracy': accuracy_score,\n",
    "             'Sensitivity': recall_score},\n",
    "    y_true=y_true,\n",
    "    y_pred=risk_categories,\n",
    "    sensitive_features=df_raw_test['race'],\n",
    ")\n",
    "\n",
    "# Plot the specified performance metrics for each race\n",
    "mf.by_group.plot.bar(subplots=True, figsize=[12,3], layout=[1,2], legend=False)"
   ]
  },
  {
   "cell_type": "markdown",
   "id": "4f93b42f",
   "metadata": {},
   "source": [
    "And age group:"
   ]
  },
  {
   "cell_type": "code",
   "execution_count": 23,
   "id": "84d0ff39",
   "metadata": {},
   "outputs": [
    {
     "data": {
      "text/plain": [
       "array([[<Axes: title={'center': 'Accuracy'}, xlabel='age_group'>,\n",
       "        <Axes: title={'center': 'Sensitivity'}, xlabel='age_group'>]],\n",
       "      dtype=object)"
      ]
     },
     "execution_count": 23,
     "metadata": {},
     "output_type": "execute_result"
    },
    {
     "data": {
      "image/png": "[encoded data removed]",
      "text/plain": [
       "<Figure size 1200x300 with 2 Axes>"
      ]
     },
     "metadata": {},
     "output_type": "display_data"
    }
   ],
   "source": [
    "# Create a MetricFrame (similar to a Pandas DataFrame) for age group, that stores predictions and performance metrics for each group\n",
    "mf = MetricFrame(\n",
    "    metrics={'Accuracy': accuracy_score,\n",
    "             'Sensitivity': recall_score},\n",
    "    y_true=y_true,\n",
    "    y_pred=risk_categories,\n",
    "    sensitive_features=df_raw_test['age_group'],\n",
    ")\n",
    "\n",
    "# Plot the specified performance metrics for each age group\n",
    "mf.by_group.plot.bar(subplots=True, figsize=[12,3], layout=[1,2], legend=False)"
   ]
  },
  {
   "cell_type": "markdown",
   "id": "a7fbce3e",
   "metadata": {},
   "source": [
    "## You've determined your model is unfair. Now what?\n",
    "In our view, the fairness assessment of our model did not indicate significant bias between groups (there are, however, unmistakable differences in how the model performs for different groups. If the deployment setting dictates an unacceptable level of bias, common techniques for mitigating unfairness typically fall into these categories:\n",
    "* **Data preprocessing** to address biased input data. Examples include importance weighting, resampling, correlation removal)\n",
    "* Modifying **model training procedures** to account for biased data. Examples include modifying optimization methods with fairness-based constraints.\n",
    "* Prediction **postprocessing techniques** to adjust the output of biased models. Examples include adjusting deicsion thresholds for each group.\n",
    "\n",
    "In addition to assessing fairness, Fairlearn also provides [several functions](https://fairlearn.org/v0.8/user_guide/mitigation.html#) for addressing unfairness. Another popular Python framework for assessing and addressing issues stemming from fairness is [AI Fairness 360](https://github.com/Trusted-AI/AIF360)."
   ]
  },
  {
   "cell_type": "markdown",
   "id": "96ff51f0",
   "metadata": {},
   "source": [
    "# 🔍 Model explainability\n",
    "Because AI models have the potential to impact patient well-being in critical contexts, prediction transparency is an essential component of ethical AI for health. The field of **explainable AI (XAI)** seeks to shed light on the inner workings of machine learning models to allow a better human understanding of its outputs.\n",
    "\n",
    "> **📌 Note:** The following is adapted from the explainability example in the `Introduction to Machine Learning` module."
   ]
  },
  {
   "cell_type": "markdown",
   "id": "10b80ce2",
   "metadata": {},
   "source": [
    "We now have our trained XGBoost model, and know how accurate it is at making predictions, but we don't understand **why** it predicts certain outcomes for certain patients. For this, we will examine one of the simpler forms of explainability, which looks at the model's weight it assigns to each feature. These weights are learned globally and do not vary depending on other patient characteristics.\n",
    "\n",
    "Every XGBoost model has a built-in *attribute* variable for this: `feature_importances_` (for convenience, we'll reassign the feature importances to a variable `F`)."
   ]
  },
  {
   "cell_type": "code",
   "execution_count": 24,
   "id": "eda3ab74",
   "metadata": {},
   "outputs": [
    {
     "name": "stdout",
     "output_type": "stream",
     "text": [
      "[0.01318546 0.         0.03049028 0.         0.02156401 0.01567915\n",
      " 0.01963032 0.02686429 0.02272739 0.05208812 0.01529943 0.01762324\n",
      " 0.0234579  0.02348706 0.01767714 0.01959138 0.         0.05721878\n",
      " 0.01345932 0.01829738 0.01460915 0.         0.         0.01201201\n",
      " 0.02533623 0.05681238 0.01915125 0.03309143 0.03138123 0.02080746\n",
      " 0.01232232 0.02916466 0.03322359 0.01656045 0.02624386 0.01175011\n",
      " 0.01359535 0.02259927 0.03775724 0.02524368 0.00606354 0.03198836\n",
      " 0.02247572 0.02761384 0.01696002 0.02355385 0.02134232]\n"
     ]
    }
   ],
   "source": [
    "# Compute feature importances\n",
    "F = clf.feature_importances_\n",
    "\n",
    "# Take a look at the feature importances.\n",
    "# The scores are in the order of the columns of our input data.\n",
    "print(F)"
   ]
  },
  {
   "cell_type": "markdown",
   "id": "b791aa82-653f-4ac4-b924-f11eb05b623c",
   "metadata": {},
   "source": [
    "To make this more informative, we can map these scores to their original feature names and generate a plot to visually compare the importance of each feature."
   ]
  },
  {
   "cell_type": "code",
   "execution_count": 25,
   "id": "73b032a3",
   "metadata": {},
   "outputs": [
    {
     "name": "stdout",
     "output_type": "stream",
     "text": [
      "['sex', 'ethnicity', 'race', 'language', 'marital_status', 'age', 'bmi', 'admission_source', 'emergent', 'surgery_type', 'rural', 'distance_from_shands', 'median_income', 'perc_below_poverty', 'prop_black', 'prop_hisp', 'aceis_arbs', 'aminoglycosides', 'antiemetics', 'aspirin', 'beta_blockers', 'bicarbonates', 'diuretics', 'pressors_inotropes', 'statins', 'vancomycin', 'nephrotoxic', 'imi', 'ichf', 'ipvd', 'icvd', 'icpd', 'imcancer', 'icancer', 'liverd', 'diabetes', 'cci', 'htn_c', 'valve', 'coag', 'obese', 'wghtloss', 'lytes', 'anemia', 'alc_drug', 'depress', 'egfr']\n"
     ]
    }
   ],
   "source": [
    "# Display the column names\n",
    "column_names = df_raw_test.columns.tolist()[:-2]\n",
    "print(column_names)"
   ]
  },
  {
   "cell_type": "markdown",
   "id": "f0ae5599",
   "metadata": {},
   "source": [
    "We can also easily visualize the relative contributions of the top 10 model features:"
   ]
  },
  {
   "cell_type": "code",
   "execution_count": 26,
   "id": "7ac6b34a",
   "metadata": {},
   "outputs": [
    {
     "data": {
      "text/plain": [
       "<Axes: ylabel='feature'>"
      ]
     },
     "execution_count": 26,
     "metadata": {},
     "output_type": "execute_result"
    },
    {
     "data": {
      "image/png": "[encoded data removed]",
      "text/plain": [
       "<Figure size 500x300 with 1 Axes>"
      ]
     },
     "metadata": {},
     "output_type": "display_data"
    }
   ],
   "source": [
    "F_df = pd.DataFrame({'feature': column_names, 'score': F}).sort_values(by='score').tail(10)\n",
    "F_df.plot.barh(x='feature', y='score', figsize=(5,3))"
   ]
  },
  {
   "cell_type": "markdown",
   "id": "28405e43-6ea4-42b6-83c7-693bbf94d758",
   "metadata": {},
   "source": [
    "By examining the model's learned feature importances, we can better understand influential model inputs and begin to have an idea of what information the model is weighting most heavily when it makes its predictions."
   ]
  },
  {
   "cell_type": "markdown",
   "id": "4ccffb1b-8cb0-49c5-a5ce-1610608dbe8a",
   "metadata": {},
   "source": [
    "> **⚠️ Caution:** Explainable artificial intelligence (so-called *XAI*) is an important and highly active area of research. We note in passing the immense popularity of many post-hoc explainability methods (such as [SHAP](https://shap.readthedocs.io/en/latest/)), which are general-purpose techniques that can be evaluated on almost any trained model. Such methods typically rely only on model inputs and outputs as oppposed to any type of internal mechanisms or logic.\n",
    ">\n",
    "> The accuracy and actionability of such methods has been debated in recent years, with some researchers claiming that these techniques are misleading, inconsistent, and potentially harmful.<sup><a href=\"https://proceedings.mlr.press/v119/kumar20e.html\">1</a>,<a href=\"https://arxiv.org/abs/2202.01602\">2</a></sup> Until future studies provide clarity, we recommend developers and users exercise caution when reading into feature importance scores and other model explanations in healthcare settings."
   ]
  },
  {
   "cell_type": "markdown",
   "id": "c861bee1-a470-457f-92e9-1afaa2aca580",
   "metadata": {},
   "source": [
    "---\n",
    "> Portions of this module are based on concepts from the following publications. We encourage interested readers to explore these resources in full for a comprehensive overview of implementing ethical AI for health.\n",
    "> * World Health Organization, 2021. [Ethics and governance of artificial intelligence for health: WHO guidance](https://www.who.int/publications/i/item/9789240029200).\n",
    "> * Bird, S., Dudík, M., Edgar, R., Horn, B., Lutz, R., Milan, V., Sameki, M., Wallach, H. and Walker, K., 2020. [Fairlearn: A toolkit for assessing and improving fairness in AI](https://fairlearn.org). Microsoft, Tech. Rep. MSR-TR-2020-32.\n",
    "---"
   ]
  }
 ],
 "metadata": {
  "kernelspec": {
   "display_name": "Python 3 (ipykernel)",
   "language": "python",
   "name": "python3"
  },
  "language_info": {
   "codemirror_mode": {
    "name": "ipython",
    "version": 3
   },
   "file_extension": ".py",
   "mimetype": "text/x-python",
   "name": "python",
   "nbconvert_exporter": "python",
   "pygments_lexer": "ipython3",
   "version": "3.11.8"
  }
 },
 "nbformat": 4,
 "nbformat_minor": 5
}
