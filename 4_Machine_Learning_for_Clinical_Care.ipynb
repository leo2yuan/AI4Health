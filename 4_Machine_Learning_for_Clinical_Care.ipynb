{
 "cells": [
  {
   "cell_type": "markdown",
   "metadata": {
    "id": "kOmXUMktrCqz"
   },
   "source": [
    "<img src=\"graphics/header.png\" width=\"75%\"/>\n",
    "\n",
    "# **Machine Learning for Clinical Care**\n",
    "---\n",
    "\n",
    "In this module, we will work through an illustrated example of using machine learning (ML) to develop a patient risk prediction tool using electronic health records (EHR) data."
   ]
  },
  {
   "cell_type": "markdown",
   "metadata": {},
   "source": [
    "After this module, students will be able to:\n",
    "\n",
    "* Explain the lifecycle of typical machine learning (ML) projects.\n",
    "* Preprocess datasets using Pandas implementations of common data pipelines.\n",
    "* Train an XGBoost machine learning model using a structured patient dataset.\n",
    "* Build a deep learning (DL) classifier using Keras.\n",
    "* Explain model decision-making through interpretability techniques.\n",
    "\n",
    "In this notebook, we will implement two machine learning models to predict the risk of acute kidney injury (AKI) following major inpatient surgery, using a tabular dataset of patient features.\n",
    "\n",
    "### **🚀 Let's get started.**"
   ]
  },
  {
   "cell_type": "markdown",
   "metadata": {
    "id": "6MVt0bkArtGu"
   },
   "source": [
    "# Example Application of Machine Learning in Critical Care\n",
    "\n",
    "* Predicting surgical complications *before* surgery can inform (1) shared decisions regarding the appropriateness of procedures, (2) targeted risk-reduction strategies, and (3) postoperative resource use. \n",
    "\n",
    "* Cognitive and judgment errors are major sources of potentially preventable complications.\n",
    "    * Example: if the risk of complications is underestimated, high-risk patients may be triaged to general wards rather than more appropriate intensive care units (ICUs).\n",
    "    \n",
    "* AI-based clinical decision support has the potential to mitigate harm from cognitive errors occurring when estimating the risk of postoperative complications.\n",
    "\n",
    "* All patients have a unique risk profile that is specific to their demographic characteristics, comorbid conditions, physiological reserve, planned surgical procedure, and surgeon skill.\n",
    "\n",
    "* Clinicians sometimes display moderate ability to estimate risk probabilities. AI tools are intended to augment decision-making.\n",
    "\n",
    "* Many clinicians are hindered by time-consuming manual data entry requirements and lack of integration with clinical workflow.\n",
    "    \n",
    "* AI predictive models using automated EHR data inputs may be able to mitigate these challenges.\n",
    "\n",
    "# Machine learning lifecycle\n",
    "Shown below are the major steps that are involved in a typical ML lifecycle.\n",
    "<center><img src=\"graphics/ml.png\" alt=\"ML lifecycle\" width=\"50%\"></center>\n",
    "\n",
    "### Data extraction and processing\n",
    "* Relevant data must be extracted (example: all revelant laboratory values and vital signs).\n",
    "* Data quality and conformation to modeling requirements must be ensured through data preprocessing (example: fixing the missing data, removing any unwanted outliers, and encoding the categorical data.)\n",
    "  \n",
    "### Model development\n",
    "* Machine learning models are built from data.\n",
    "* Recall our module on functions: an ML model can be thought of as a **function** that maps a set of input values (example: patient characteristics) to an output value (example: probability of developing AKI).\n",
    "* We develop a model on data from a **training** cohort.\n",
    "* During the model refinement stage, known as **training**, model parameters (such as *weights* and *biases*) are altered to optimize the associations between inputs and outputs.\n",
    "* After training, a model is ready to make predictions on *new data it has not seen before*. But how accurate will it be?\n",
    "\n",
    "### Evaluation and Intepretation\n",
    "* Once a ML model is trained, we evaluate the end result on **testing** dataset to see how well the model performed or how reliable it is.\n",
    "* Multiple performance metrics such as accuracy, AUC, sensitivity, and specificity can be evaluated.\n",
    "* Once we are satisfied with a model's performance, we may implement **explainable AI (XAI)** techniques to discover **why** a model behaves in a particular way.\n",
    "* XAI techniques include computing a relative importance score associated with each input feature/column (for a given patient, how important was each input in determining that patient's prediction?).\n",
    "\n",
    "### Deployment\n",
    "* ML model deployment is the process of placing a finished ML model into a live environment, such as creating a web service or mobile application for prediction.\n",
    "* It is imperative that the performance of an established model is continually monitored in prospective deployment to safeguard against data distribution shifts resulting from changes in populations, practice, or other changes that may result in deteriorating model performance over time.\n",
    "\n",
    "### Optimization\n",
    "* A deployed ML model has real-world impact and must be continuously monitored and maintained.\n",
    "* When new or updated data becomes available, or when we determine that an existing deployed model no longer results in satisfactory performance, we need to optimize the model by re-training and re-evaluating the ML model.\n",
    "\n",
    "In this notebook, we will only focus on the first three phases, and save practical discussions on deployment and optimization for a later module."
   ]
  },
  {
   "cell_type": "markdown",
   "metadata": {},
   "source": [
    "# Example data description and problem definition\n",
    "\n",
    "We will be using an EHR dataset containing 10,000 surgical patients.\n",
    "* **Input features (X)** (47)\n",
    "    * Demographic variables\n",
    "    * Admission and surgery information\n",
    "    * Social determinants of health (SDOH)\n",
    "    * One-year medication history\n",
    "    * Admission comorbidities\n",
    "    * Estimated glomerular filtration rate (eGFR: measures kidney function) before surgery\n",
    "* **Outcome (Y)** (1)\n",
    "    * Postoperative AKI: onset of acute kidney injury (AKI) at any point between the end of surgery and patient discharge or death.\n",
    "    * This is a binary outcome (it is recorded as either 0 or 1 for each patient). The ML model will learn to predict the risk of each patient developing AKI based on the specific input features."
   ]
  },
  {
   "cell_type": "code",
   "execution_count": 1,
   "metadata": {},
   "outputs": [
    {
     "data": {
      "text/html": [
       "<div>\n",
       "<style scoped>\n",
       "    .dataframe tbody tr th:only-of-type {\n",
       "        vertical-align: middle;\n",
       "    }\n",
       "\n",
       "    .dataframe tbody tr th {\n",
       "        vertical-align: top;\n",
       "    }\n",
       "\n",
       "    .dataframe thead th {\n",
       "        text-align: right;\n",
       "    }\n",
       "</style>\n",
       "<table border=\"1\" class=\"dataframe\">\n",
       "  <thead>\n",
       "    <tr style=\"text-align: right;\">\n",
       "      <th></th>\n",
       "      <th>patient_id</th>\n",
       "      <th>sex</th>\n",
       "      <th>ethnicity</th>\n",
       "      <th>race</th>\n",
       "      <th>language</th>\n",
       "      <th>marital_status</th>\n",
       "      <th>age</th>\n",
       "      <th>bmi</th>\n",
       "      <th>admission_source</th>\n",
       "      <th>emergent</th>\n",
       "      <th>...</th>\n",
       "      <th>valve</th>\n",
       "      <th>coag</th>\n",
       "      <th>obese</th>\n",
       "      <th>wghtloss</th>\n",
       "      <th>lytes</th>\n",
       "      <th>anemia</th>\n",
       "      <th>alc_drug</th>\n",
       "      <th>depress</th>\n",
       "      <th>egfr</th>\n",
       "      <th>aki</th>\n",
       "    </tr>\n",
       "  </thead>\n",
       "  <tbody>\n",
       "    <tr>\n",
       "      <th>0</th>\n",
       "      <td>0</td>\n",
       "      <td>MALE</td>\n",
       "      <td>NON-HISPANIC</td>\n",
       "      <td>WHITE</td>\n",
       "      <td>ENGLISH</td>\n",
       "      <td>MARRIED</td>\n",
       "      <td>62.4614</td>\n",
       "      <td>24.6711</td>\n",
       "      <td>NON-TRANSFER</td>\n",
       "      <td>EMERGENCY</td>\n",
       "      <td>...</td>\n",
       "      <td>0</td>\n",
       "      <td>0</td>\n",
       "      <td>1</td>\n",
       "      <td>0</td>\n",
       "      <td>0</td>\n",
       "      <td>0</td>\n",
       "      <td>0</td>\n",
       "      <td>1</td>\n",
       "      <td>82.1529</td>\n",
       "      <td>0</td>\n",
       "    </tr>\n",
       "    <tr>\n",
       "      <th>1</th>\n",
       "      <td>1</td>\n",
       "      <td>MALE</td>\n",
       "      <td>NON-HISPANIC</td>\n",
       "      <td>WHITE</td>\n",
       "      <td>ENGLISH</td>\n",
       "      <td>SINGLE</td>\n",
       "      <td>65.3903</td>\n",
       "      <td>30.5554</td>\n",
       "      <td>TRANSFER</td>\n",
       "      <td>NON-EMERGENCY</td>\n",
       "      <td>...</td>\n",
       "      <td>0</td>\n",
       "      <td>0</td>\n",
       "      <td>0</td>\n",
       "      <td>1</td>\n",
       "      <td>0</td>\n",
       "      <td>1</td>\n",
       "      <td>0</td>\n",
       "      <td>0</td>\n",
       "      <td>104.7827</td>\n",
       "      <td>1</td>\n",
       "    </tr>\n",
       "    <tr>\n",
       "      <th>2</th>\n",
       "      <td>2</td>\n",
       "      <td>FEMALE</td>\n",
       "      <td>NON-HISPANIC</td>\n",
       "      <td>WHITE</td>\n",
       "      <td>ENGLISH</td>\n",
       "      <td>SINGLE</td>\n",
       "      <td>82.6667</td>\n",
       "      <td>40.5842</td>\n",
       "      <td>NON-TRANSFER</td>\n",
       "      <td>NON-EMERGENCY</td>\n",
       "      <td>...</td>\n",
       "      <td>0</td>\n",
       "      <td>0</td>\n",
       "      <td>1</td>\n",
       "      <td>0</td>\n",
       "      <td>0</td>\n",
       "      <td>1</td>\n",
       "      <td>0</td>\n",
       "      <td>0</td>\n",
       "      <td>85.4759</td>\n",
       "      <td>0</td>\n",
       "    </tr>\n",
       "    <tr>\n",
       "      <th>3</th>\n",
       "      <td>3</td>\n",
       "      <td>MALE</td>\n",
       "      <td>NON-HISPANIC</td>\n",
       "      <td>WHITE</td>\n",
       "      <td>ENGLISH</td>\n",
       "      <td>MARRIED</td>\n",
       "      <td>62.1461</td>\n",
       "      <td>22.5506</td>\n",
       "      <td>NON-TRANSFER</td>\n",
       "      <td>EMERGENCY</td>\n",
       "      <td>...</td>\n",
       "      <td>0</td>\n",
       "      <td>1</td>\n",
       "      <td>1</td>\n",
       "      <td>0</td>\n",
       "      <td>1</td>\n",
       "      <td>0</td>\n",
       "      <td>1</td>\n",
       "      <td>0</td>\n",
       "      <td>57.2850</td>\n",
       "      <td>0</td>\n",
       "    </tr>\n",
       "    <tr>\n",
       "      <th>4</th>\n",
       "      <td>4</td>\n",
       "      <td>FEMALE</td>\n",
       "      <td>NON-HISPANIC</td>\n",
       "      <td>WHITE</td>\n",
       "      <td>ENGLISH</td>\n",
       "      <td>MARRIED</td>\n",
       "      <td>43.1582</td>\n",
       "      <td>16.7270</td>\n",
       "      <td>NON-TRANSFER</td>\n",
       "      <td>EMERGENCY</td>\n",
       "      <td>...</td>\n",
       "      <td>0</td>\n",
       "      <td>0</td>\n",
       "      <td>0</td>\n",
       "      <td>0</td>\n",
       "      <td>1</td>\n",
       "      <td>0</td>\n",
       "      <td>1</td>\n",
       "      <td>0</td>\n",
       "      <td>NaN</td>\n",
       "      <td>1</td>\n",
       "    </tr>\n",
       "  </tbody>\n",
       "</table>\n",
       "<p>5 rows × 49 columns</p>\n",
       "</div>"
      ],
      "text/plain": [
       "   patient_id     sex     ethnicity   race language marital_status      age  \\\n",
       "0           0    MALE  NON-HISPANIC  WHITE  ENGLISH        MARRIED  62.4614   \n",
       "1           1    MALE  NON-HISPANIC  WHITE  ENGLISH         SINGLE  65.3903   \n",
       "2           2  FEMALE  NON-HISPANIC  WHITE  ENGLISH         SINGLE  82.6667   \n",
       "3           3    MALE  NON-HISPANIC  WHITE  ENGLISH        MARRIED  62.1461   \n",
       "4           4  FEMALE  NON-HISPANIC  WHITE  ENGLISH        MARRIED  43.1582   \n",
       "\n",
       "       bmi admission_source       emergent  ... valve  coag  obese  wghtloss  \\\n",
       "0  24.6711     NON-TRANSFER      EMERGENCY  ...     0     0      1         0   \n",
       "1  30.5554         TRANSFER  NON-EMERGENCY  ...     0     0      0         1   \n",
       "2  40.5842     NON-TRANSFER  NON-EMERGENCY  ...     0     0      1         0   \n",
       "3  22.5506     NON-TRANSFER      EMERGENCY  ...     0     1      1         0   \n",
       "4  16.7270     NON-TRANSFER      EMERGENCY  ...     0     0      0         0   \n",
       "\n",
       "   lytes  anemia  alc_drug  depress      egfr  aki  \n",
       "0      0       0         0        1   82.1529    0  \n",
       "1      0       1         0        0  104.7827    1  \n",
       "2      0       1         0        0   85.4759    0  \n",
       "3      1       0         1        0   57.2850    0  \n",
       "4      1       0         1        0       NaN    1  \n",
       "\n",
       "[5 rows x 49 columns]"
      ]
     },
     "execution_count": 1,
     "metadata": {},
     "output_type": "execute_result"
    }
   ],
   "source": [
    "import pandas as pd\n",
    "import numpy as np\n",
    "\n",
    "df = pd.read_csv('https://www.dropbox.com/scl/fi/itlhhnrhbg9y9b3nnbd7t/data_unprocessed.csv?rlkey=labucmpbah1xu7alhmgrn4511&dl=1')\n",
    "df.head()"
   ]
  },
  {
   "cell_type": "markdown",
   "metadata": {},
   "source": [
    "> As an exploratory step, let's take a look at the distribution of our AKI outcome (how prevalent is postoperative AKI?). We'll use the `value_counts` function we saw before to help answer this question."
   ]
  },
  {
   "cell_type": "code",
   "execution_count": 2,
   "metadata": {},
   "outputs": [
    {
     "data": {
      "text/plain": [
       "aki\n",
       "0    0.84\n",
       "1    0.16\n",
       "Name: proportion, dtype: float64"
      ]
     },
     "execution_count": 2,
     "metadata": {},
     "output_type": "execute_result"
    }
   ],
   "source": [
    "# The normalize=True parameter divides each count by the total number of samples.\n",
    "df['aki'].value_counts(normalize=True)"
   ]
  },
  {
   "cell_type": "markdown",
   "metadata": {},
   "source": [
    "> We can see from the above that about 16% of the surgical encounters resulted in acute kidney injury."
   ]
  },
  {
   "cell_type": "markdown",
   "metadata": {},
   "source": [
    "# Data preprocessing\n",
    "\n",
    "Before we use our data to train a machine learning model, we must transform the raw data into **features** that an ML model can understand (sometimes these look quite similar, but not always). This critical step is called **data preprocessing**. Since real-world data can be messy, during this phase we also *clean* data to ensure the ML model can learn meaningful patterns.\n",
    "\n",
    "Common data preprocessing steps may include the following (depending on the ML model used):\n",
    "* Removing outliers*\n",
    "* Addressing data missingess\n",
    "* Transforming binary string columns (e.g., sex) into a numerical form that the model can understand.\n",
    "* Transforming many-valued string columns (e.g., race) into a numerical form.\n",
    "* Normalizing input features to give them equal weighting.\n",
    "\n",
    "\\*One common approach to remove outliers in ML projects is to remove observations that fall outside a specified range. In this tutorial, we remove observations whose values are less than the 1st percentile or greater than the 99th percentile.\n",
    "\n",
    "\n",
    "### Addressing missing data\n",
    "\n",
    "* Missing data are common in routinely collected health data\n",
    "    * Many times, missingness can be informative (e.g. a particular test was not ordered because patient was healthy).\n",
    "    * In other cases, missingness may be at random or due to other factors (e.g., lack of routine follow-up)\n",
    "* Some models **require** filling in missing data with imputation methods. Others will gladly accept missing data. The decision of when, and how, to impute missing data is often dependent on the model, data, and problem. \n",
    "* In a Pandas DataFrame, missing values will be represented by `NaN` (*\"Not a Number\"*)\n",
    "\n",
    "One simple, but effective, imputation approach is to replace a patient's missing variable value with a value computed from all other patients. For example, if a patient is missing the `bmi` variable, we might impute the mean value for the `bmi` feature across all other patients. (Recall our Pandas module for other choices!)\n",
    "\n",
    "Let's use code to replace any missing `bmi` values with the `median` bmi from all other patients. We can accomplish this using some Pandas functions we've already seen, along with the `df.fillna(x)` function, which for a given DataFrame `df`, replaces any missing values with the input value `x`."
   ]
  },
  {
   "cell_type": "code",
   "execution_count": 3,
   "metadata": {},
   "outputs": [
    {
     "data": {
      "text/html": [
       "<div>\n",
       "<style scoped>\n",
       "    .dataframe tbody tr th:only-of-type {\n",
       "        vertical-align: middle;\n",
       "    }\n",
       "\n",
       "    .dataframe tbody tr th {\n",
       "        vertical-align: top;\n",
       "    }\n",
       "\n",
       "    .dataframe thead th {\n",
       "        text-align: right;\n",
       "    }\n",
       "</style>\n",
       "<table border=\"1\" class=\"dataframe\">\n",
       "  <thead>\n",
       "    <tr style=\"text-align: right;\">\n",
       "      <th></th>\n",
       "      <th>patient_id</th>\n",
       "      <th>sex</th>\n",
       "      <th>ethnicity</th>\n",
       "      <th>race</th>\n",
       "      <th>language</th>\n",
       "      <th>marital_status</th>\n",
       "      <th>age</th>\n",
       "      <th>bmi</th>\n",
       "      <th>admission_source</th>\n",
       "      <th>emergent</th>\n",
       "      <th>...</th>\n",
       "      <th>valve</th>\n",
       "      <th>coag</th>\n",
       "      <th>obese</th>\n",
       "      <th>wghtloss</th>\n",
       "      <th>lytes</th>\n",
       "      <th>anemia</th>\n",
       "      <th>alc_drug</th>\n",
       "      <th>depress</th>\n",
       "      <th>egfr</th>\n",
       "      <th>aki</th>\n",
       "    </tr>\n",
       "  </thead>\n",
       "  <tbody>\n",
       "    <tr>\n",
       "      <th>18</th>\n",
       "      <td>18</td>\n",
       "      <td>MALE</td>\n",
       "      <td>NON-HISPANIC</td>\n",
       "      <td>WHITE</td>\n",
       "      <td>ENGLISH</td>\n",
       "      <td>MARRIED</td>\n",
       "      <td>78.1377</td>\n",
       "      <td>NaN</td>\n",
       "      <td>TRANSFER</td>\n",
       "      <td>NON-EMERGENCY</td>\n",
       "      <td>...</td>\n",
       "      <td>0</td>\n",
       "      <td>1</td>\n",
       "      <td>1</td>\n",
       "      <td>0</td>\n",
       "      <td>1</td>\n",
       "      <td>0</td>\n",
       "      <td>0</td>\n",
       "      <td>0</td>\n",
       "      <td>NaN</td>\n",
       "      <td>0</td>\n",
       "    </tr>\n",
       "    <tr>\n",
       "      <th>22</th>\n",
       "      <td>22</td>\n",
       "      <td>FEMALE</td>\n",
       "      <td>NON-HISPANIC</td>\n",
       "      <td>WHITE</td>\n",
       "      <td>ENGLISH</td>\n",
       "      <td>DIVORCED</td>\n",
       "      <td>31.9612</td>\n",
       "      <td>NaN</td>\n",
       "      <td>TRANSFER</td>\n",
       "      <td>NON-EMERGENCY</td>\n",
       "      <td>...</td>\n",
       "      <td>0</td>\n",
       "      <td>1</td>\n",
       "      <td>1</td>\n",
       "      <td>0</td>\n",
       "      <td>1</td>\n",
       "      <td>0</td>\n",
       "      <td>0</td>\n",
       "      <td>0</td>\n",
       "      <td>112.9666</td>\n",
       "      <td>0</td>\n",
       "    </tr>\n",
       "    <tr>\n",
       "      <th>125</th>\n",
       "      <td>125</td>\n",
       "      <td>MALE</td>\n",
       "      <td>HISPANIC</td>\n",
       "      <td>WHITE</td>\n",
       "      <td>ENGLISH</td>\n",
       "      <td>MARRIED</td>\n",
       "      <td>78.8370</td>\n",
       "      <td>NaN</td>\n",
       "      <td>NON-TRANSFER</td>\n",
       "      <td>NON-EMERGENCY</td>\n",
       "      <td>...</td>\n",
       "      <td>0</td>\n",
       "      <td>1</td>\n",
       "      <td>1</td>\n",
       "      <td>0</td>\n",
       "      <td>1</td>\n",
       "      <td>0</td>\n",
       "      <td>1</td>\n",
       "      <td>0</td>\n",
       "      <td>139.9804</td>\n",
       "      <td>0</td>\n",
       "    </tr>\n",
       "    <tr>\n",
       "      <th>140</th>\n",
       "      <td>140</td>\n",
       "      <td>MALE</td>\n",
       "      <td>NON-HISPANIC</td>\n",
       "      <td>WHITE</td>\n",
       "      <td>ENGLISH</td>\n",
       "      <td>MARRIED</td>\n",
       "      <td>66.4866</td>\n",
       "      <td>NaN</td>\n",
       "      <td>NON-TRANSFER</td>\n",
       "      <td>EMERGENCY</td>\n",
       "      <td>...</td>\n",
       "      <td>1</td>\n",
       "      <td>0</td>\n",
       "      <td>0</td>\n",
       "      <td>0</td>\n",
       "      <td>1</td>\n",
       "      <td>1</td>\n",
       "      <td>0</td>\n",
       "      <td>1</td>\n",
       "      <td>83.5386</td>\n",
       "      <td>0</td>\n",
       "    </tr>\n",
       "    <tr>\n",
       "      <th>151</th>\n",
       "      <td>151</td>\n",
       "      <td>MALE</td>\n",
       "      <td>NON-HISPANIC</td>\n",
       "      <td>WHITE</td>\n",
       "      <td>NON-ENGLISH</td>\n",
       "      <td>MARRIED</td>\n",
       "      <td>33.9240</td>\n",
       "      <td>NaN</td>\n",
       "      <td>NON-TRANSFER</td>\n",
       "      <td>EMERGENCY</td>\n",
       "      <td>...</td>\n",
       "      <td>1</td>\n",
       "      <td>0</td>\n",
       "      <td>1</td>\n",
       "      <td>0</td>\n",
       "      <td>1</td>\n",
       "      <td>0</td>\n",
       "      <td>0</td>\n",
       "      <td>0</td>\n",
       "      <td>NaN</td>\n",
       "      <td>1</td>\n",
       "    </tr>\n",
       "  </tbody>\n",
       "</table>\n",
       "<p>5 rows × 49 columns</p>\n",
       "</div>"
      ],
      "text/plain": [
       "     patient_id     sex     ethnicity   race     language marital_status  \\\n",
       "18           18    MALE  NON-HISPANIC  WHITE      ENGLISH        MARRIED   \n",
       "22           22  FEMALE  NON-HISPANIC  WHITE      ENGLISH       DIVORCED   \n",
       "125         125    MALE      HISPANIC  WHITE      ENGLISH        MARRIED   \n",
       "140         140    MALE  NON-HISPANIC  WHITE      ENGLISH        MARRIED   \n",
       "151         151    MALE  NON-HISPANIC  WHITE  NON-ENGLISH        MARRIED   \n",
       "\n",
       "         age  bmi admission_source       emergent  ... valve  coag  obese  \\\n",
       "18   78.1377  NaN         TRANSFER  NON-EMERGENCY  ...     0     1      1   \n",
       "22   31.9612  NaN         TRANSFER  NON-EMERGENCY  ...     0     1      1   \n",
       "125  78.8370  NaN     NON-TRANSFER  NON-EMERGENCY  ...     0     1      1   \n",
       "140  66.4866  NaN     NON-TRANSFER      EMERGENCY  ...     1     0      0   \n",
       "151  33.9240  NaN     NON-TRANSFER      EMERGENCY  ...     1     0      1   \n",
       "\n",
       "     wghtloss  lytes  anemia  alc_drug  depress      egfr  aki  \n",
       "18          0      1       0         0        0       NaN    0  \n",
       "22          0      1       0         0        0  112.9666    0  \n",
       "125         0      1       0         1        0  139.9804    0  \n",
       "140         0      1       1         0        1   83.5386    0  \n",
       "151         0      1       0         0        0       NaN    1  \n",
       "\n",
       "[5 rows x 49 columns]"
      ]
     },
     "execution_count": 3,
     "metadata": {},
     "output_type": "execute_result"
    }
   ],
   "source": [
    "# We can use Pandas filtering to see examples of where bmi is missing. (Notice the NaN)\n",
    "df[pd.isnull(df['bmi'])].head()"
   ]
  },
  {
   "cell_type": "code",
   "execution_count": 4,
   "metadata": {},
   "outputs": [
    {
     "name": "stdout",
     "output_type": "stream",
     "text": [
      "28.878349999999998\n"
     ]
    }
   ],
   "source": [
    "# Compute the median BMI (note: missing values are ignored in this calculation)\n",
    "bmi_median = df['bmi'].median()\n",
    "print(bmi_median)"
   ]
  },
  {
   "cell_type": "code",
   "execution_count": 5,
   "metadata": {},
   "outputs": [],
   "source": [
    "# Use fillna to replace any missing BMI values with the median BMI value.\n",
    "df['bmi'] = df['bmi'].fillna(bmi_median)"
   ]
  },
  {
   "cell_type": "code",
   "execution_count": 6,
   "metadata": {},
   "outputs": [
    {
     "data": {
      "text/html": [
       "<div>\n",
       "<style scoped>\n",
       "    .dataframe tbody tr th:only-of-type {\n",
       "        vertical-align: middle;\n",
       "    }\n",
       "\n",
       "    .dataframe tbody tr th {\n",
       "        vertical-align: top;\n",
       "    }\n",
       "\n",
       "    .dataframe thead th {\n",
       "        text-align: right;\n",
       "    }\n",
       "</style>\n",
       "<table border=\"1\" class=\"dataframe\">\n",
       "  <thead>\n",
       "    <tr style=\"text-align: right;\">\n",
       "      <th></th>\n",
       "      <th>patient_id</th>\n",
       "      <th>sex</th>\n",
       "      <th>ethnicity</th>\n",
       "      <th>race</th>\n",
       "      <th>language</th>\n",
       "      <th>marital_status</th>\n",
       "      <th>age</th>\n",
       "      <th>bmi</th>\n",
       "      <th>admission_source</th>\n",
       "      <th>emergent</th>\n",
       "      <th>...</th>\n",
       "      <th>valve</th>\n",
       "      <th>coag</th>\n",
       "      <th>obese</th>\n",
       "      <th>wghtloss</th>\n",
       "      <th>lytes</th>\n",
       "      <th>anemia</th>\n",
       "      <th>alc_drug</th>\n",
       "      <th>depress</th>\n",
       "      <th>egfr</th>\n",
       "      <th>aki</th>\n",
       "    </tr>\n",
       "  </thead>\n",
       "  <tbody>\n",
       "  </tbody>\n",
       "</table>\n",
       "<p>0 rows × 49 columns</p>\n",
       "</div>"
      ],
      "text/plain": [
       "Empty DataFrame\n",
       "Columns: [patient_id, sex, ethnicity, race, language, marital_status, age, bmi, admission_source, emergent, surgery_type, rural, distance_from_shands, median_income, perc_below_poverty, prop_black, prop_hisp, aceis_arbs, aminoglycosides, antiemetics, aspirin, beta_blockers, bicarbonates, diuretics, pressors_inotropes, statins, vancomycin, nephrotoxic, imi, ichf, ipvd, icvd, icpd, imcancer, icancer, liverd, diabetes, cci, htn_c, valve, coag, obese, wghtloss, lytes, anemia, alc_drug, depress, egfr, aki]\n",
       "Index: []\n",
       "\n",
       "[0 rows x 49 columns]"
      ]
     },
     "execution_count": 6,
     "metadata": {},
     "output_type": "execute_result"
    }
   ],
   "source": [
    "# Let's re-run this code to see where BMI is still missing\n",
    "df[pd.isnull(df['bmi'])]"
   ]
  },
  {
   "cell_type": "markdown",
   "metadata": {},
   "source": [
    "**BMI is no longer missing!** Every patient now has a BMI value for passing into the model.\n",
    "\n",
    "> **📌 Note:** There are many alternative approaches for missing data imputation, including k-Nearest neighbors (KNN) and multiple imputation by chained equation ([MICE](https://www.jstatsoft.org/article/view/v045i03))."
   ]
  },
  {
   "cell_type": "markdown",
   "metadata": {},
   "source": [
    "# Data Transformation\n",
    "In general, machine learning models are great at learning from **numerical** data (e.g., 0, 1, 0.5) . However, many important clinical characteristics are stored as **categorical** data (e.g., `MALE`, `DIVORCED`). For many models, we must convert the categorical values to numerical features through a **data transformation** process.\n",
    "\n",
    "For categorical variables with **only two** options, we can assign one of the options to be **0**, and the other to be **1**.\n",
    "\n",
    "Let's see an example of how we would do this for the `sex` variable, which in our particular dataset contains only two values: `MALE` and `FEMALE`:"
   ]
  },
  {
   "cell_type": "code",
   "execution_count": 7,
   "metadata": {},
   "outputs": [
    {
     "name": "stdout",
     "output_type": "stream",
     "text": [
      "['MALE' 'FEMALE']\n",
      "[1 0]\n"
     ]
    }
   ],
   "source": [
    "# Show the unique values of the sex variable before transformation\n",
    "print(df['sex'].unique())\n",
    "\n",
    "# We can use the replace function to convert strings to binary numbers\n",
    "df['sex'] = df['sex'].replace({'FEMALE' : 0, 'MALE' : 1})\n",
    "\n",
    "# Show the unique values of the sex variable after transformation\n",
    "print(df['sex'].unique())"
   ]
  },
  {
   "cell_type": "markdown",
   "metadata": {},
   "source": [
    "Perfect! But what if our categorical variable contains more than two unique values?\n",
    "* One option would be to replace them with more numbers (for example: 0, 1, 2, 3, ...)\n",
    "* However, doing this may confuse some models due to implicit ordering and hierarchies\n",
    "    * If 0=apple, 1=banana, 2=pear, 3=tomato, then does a tomato equal three bananas? Is a pear worth more than a banana which is worth more than an apple? \n",
    "\n",
    "One solution is called **one-hot encoding**:\n",
    "1. For a single categorical variable (e.g., `marital_status`), create a separate column in the dataset for each category of a categorical variable.\n",
    "    * If there are 4 options, then we create 4 new columns.\n",
    "2. The values of these columns are zero **except for** the column corresponding to the original value.\n",
    "\n",
    "Let's see this in action:"
   ]
  },
  {
   "cell_type": "code",
   "execution_count": 8,
   "metadata": {},
   "outputs": [
    {
     "name": "stdout",
     "output_type": "stream",
     "text": [
      "0    MARRIED\n",
      "1     SINGLE\n",
      "2     SINGLE\n",
      "3    MARRIED\n",
      "4    MARRIED\n",
      "Name: marital_status, dtype: object\n",
      "   DIVORCED  MARRIED  MISSING  SINGLE\n",
      "0     False     True    False   False\n",
      "1     False    False    False    True\n",
      "2     False    False    False    True\n",
      "3     False     True    False   False\n",
      "4     False     True    False   False\n"
     ]
    }
   ],
   "source": [
    "# Show the first 5 values of marital_status before one-hot encoding\n",
    "print(df['marital_status'].head())\n",
    "\n",
    "# Use the get_dummies() function to perform one-hot encoding on the marital_status column.\n",
    "marital_status_transformed = pd.get_dummies(df['marital_status'])\n",
    "\n",
    "# Show the first 5 values of marital_status after one-hot encoding\n",
    "print(marital_status_transformed.head())"
   ]
  },
  {
   "cell_type": "markdown",
   "metadata": {},
   "source": [
    "# Let's Skip Ahead.\n",
    "Data analysis, imputation, transformation, and preprocessing take a large portion of any AI/ML project's time. We only covered a few steps of the process in this module. Later modules will explore more advanced methods to manipulate and transform patient data into AI/ML-ready formats.\n",
    "\n",
    "🕑 For now, let's save time by loading a new dataset that has already been preprocessed:"
   ]
  },
  {
   "cell_type": "code",
   "execution_count": 9,
   "metadata": {
    "scrolled": true
   },
   "outputs": [
    {
     "data": {
      "text/html": [
       "<div>\n",
       "<style scoped>\n",
       "    .dataframe tbody tr th:only-of-type {\n",
       "        vertical-align: middle;\n",
       "    }\n",
       "\n",
       "    .dataframe tbody tr th {\n",
       "        vertical-align: top;\n",
       "    }\n",
       "\n",
       "    .dataframe thead th {\n",
       "        text-align: right;\n",
       "    }\n",
       "</style>\n",
       "<table border=\"1\" class=\"dataframe\">\n",
       "  <thead>\n",
       "    <tr style=\"text-align: right;\">\n",
       "      <th></th>\n",
       "      <th>patient_id</th>\n",
       "      <th>sex</th>\n",
       "      <th>ethnicity</th>\n",
       "      <th>race</th>\n",
       "      <th>language</th>\n",
       "      <th>marital_status</th>\n",
       "      <th>age</th>\n",
       "      <th>bmi</th>\n",
       "      <th>admission_source</th>\n",
       "      <th>emergent</th>\n",
       "      <th>...</th>\n",
       "      <th>valve</th>\n",
       "      <th>coag</th>\n",
       "      <th>obese</th>\n",
       "      <th>wghtloss</th>\n",
       "      <th>lytes</th>\n",
       "      <th>anemia</th>\n",
       "      <th>alc_drug</th>\n",
       "      <th>depress</th>\n",
       "      <th>egfr</th>\n",
       "      <th>aki</th>\n",
       "    </tr>\n",
       "  </thead>\n",
       "  <tbody>\n",
       "    <tr>\n",
       "      <th>0</th>\n",
       "      <td>0</td>\n",
       "      <td>0.978237</td>\n",
       "      <td>0.263234</td>\n",
       "      <td>-0.203467</td>\n",
       "      <td>0.136533</td>\n",
       "      <td>-1.017430</td>\n",
       "      <td>-0.684920</td>\n",
       "      <td>-0.833419</td>\n",
       "      <td>-0.441135</td>\n",
       "      <td>-0.761596</td>\n",
       "      <td>...</td>\n",
       "      <td>-0.445011</td>\n",
       "      <td>-0.382959</td>\n",
       "      <td>-0.849218</td>\n",
       "      <td>-0.420578</td>\n",
       "      <td>-0.749675</td>\n",
       "      <td>-0.567958</td>\n",
       "      <td>2.357409</td>\n",
       "      <td>-0.645470</td>\n",
       "      <td>0.783296</td>\n",
       "      <td>0</td>\n",
       "    </tr>\n",
       "    <tr>\n",
       "      <th>1</th>\n",
       "      <td>1</td>\n",
       "      <td>-1.022247</td>\n",
       "      <td>0.263234</td>\n",
       "      <td>2.315985</td>\n",
       "      <td>0.136533</td>\n",
       "      <td>-1.017430</td>\n",
       "      <td>-1.259334</td>\n",
       "      <td>-0.523094</td>\n",
       "      <td>-0.441135</td>\n",
       "      <td>-0.761596</td>\n",
       "      <td>...</td>\n",
       "      <td>-0.445011</td>\n",
       "      <td>-0.382959</td>\n",
       "      <td>-0.849218</td>\n",
       "      <td>-0.420578</td>\n",
       "      <td>-0.749675</td>\n",
       "      <td>-0.567958</td>\n",
       "      <td>-0.424195</td>\n",
       "      <td>1.549259</td>\n",
       "      <td>0.052083</td>\n",
       "      <td>0</td>\n",
       "    </tr>\n",
       "    <tr>\n",
       "      <th>2</th>\n",
       "      <td>2</td>\n",
       "      <td>-1.022247</td>\n",
       "      <td>0.263234</td>\n",
       "      <td>-0.203467</td>\n",
       "      <td>0.136533</td>\n",
       "      <td>0.144422</td>\n",
       "      <td>1.038322</td>\n",
       "      <td>0.377905</td>\n",
       "      <td>-0.441135</td>\n",
       "      <td>1.313032</td>\n",
       "      <td>...</td>\n",
       "      <td>-0.445011</td>\n",
       "      <td>-0.382959</td>\n",
       "      <td>1.177555</td>\n",
       "      <td>-0.420578</td>\n",
       "      <td>-0.749675</td>\n",
       "      <td>-0.567958</td>\n",
       "      <td>-0.424195</td>\n",
       "      <td>1.549259</td>\n",
       "      <td>-0.357553</td>\n",
       "      <td>0</td>\n",
       "    </tr>\n",
       "    <tr>\n",
       "      <th>3</th>\n",
       "      <td>3</td>\n",
       "      <td>-1.022247</td>\n",
       "      <td>0.263234</td>\n",
       "      <td>2.315985</td>\n",
       "      <td>0.136533</td>\n",
       "      <td>0.144422</td>\n",
       "      <td>0.463908</td>\n",
       "      <td>3.470699</td>\n",
       "      <td>-0.441135</td>\n",
       "      <td>1.313032</td>\n",
       "      <td>...</td>\n",
       "      <td>2.247133</td>\n",
       "      <td>2.611247</td>\n",
       "      <td>1.177555</td>\n",
       "      <td>-0.420578</td>\n",
       "      <td>1.333912</td>\n",
       "      <td>1.760693</td>\n",
       "      <td>-0.424195</td>\n",
       "      <td>1.549259</td>\n",
       "      <td>-0.789798</td>\n",
       "      <td>0</td>\n",
       "    </tr>\n",
       "    <tr>\n",
       "      <th>4</th>\n",
       "      <td>4</td>\n",
       "      <td>0.978237</td>\n",
       "      <td>0.263234</td>\n",
       "      <td>-0.203467</td>\n",
       "      <td>0.136533</td>\n",
       "      <td>0.144422</td>\n",
       "      <td>0.751115</td>\n",
       "      <td>0.013019</td>\n",
       "      <td>-0.441135</td>\n",
       "      <td>-0.761596</td>\n",
       "      <td>...</td>\n",
       "      <td>2.247133</td>\n",
       "      <td>-0.382959</td>\n",
       "      <td>1.177555</td>\n",
       "      <td>-0.420578</td>\n",
       "      <td>1.333912</td>\n",
       "      <td>-0.567958</td>\n",
       "      <td>-0.424195</td>\n",
       "      <td>1.549259</td>\n",
       "      <td>-1.845950</td>\n",
       "      <td>1</td>\n",
       "    </tr>\n",
       "  </tbody>\n",
       "</table>\n",
       "<p>5 rows × 49 columns</p>\n",
       "</div>"
      ],
      "text/plain": [
       "   patient_id       sex  ethnicity      race  language  marital_status  \\\n",
       "0           0  0.978237   0.263234 -0.203467  0.136533       -1.017430   \n",
       "1           1 -1.022247   0.263234  2.315985  0.136533       -1.017430   \n",
       "2           2 -1.022247   0.263234 -0.203467  0.136533        0.144422   \n",
       "3           3 -1.022247   0.263234  2.315985  0.136533        0.144422   \n",
       "4           4  0.978237   0.263234 -0.203467  0.136533        0.144422   \n",
       "\n",
       "        age       bmi  admission_source  emergent  ...     valve      coag  \\\n",
       "0 -0.684920 -0.833419         -0.441135 -0.761596  ... -0.445011 -0.382959   \n",
       "1 -1.259334 -0.523094         -0.441135 -0.761596  ... -0.445011 -0.382959   \n",
       "2  1.038322  0.377905         -0.441135  1.313032  ... -0.445011 -0.382959   \n",
       "3  0.463908  3.470699         -0.441135  1.313032  ...  2.247133  2.611247   \n",
       "4  0.751115  0.013019         -0.441135 -0.761596  ...  2.247133 -0.382959   \n",
       "\n",
       "      obese  wghtloss     lytes    anemia  alc_drug   depress      egfr  aki  \n",
       "0 -0.849218 -0.420578 -0.749675 -0.567958  2.357409 -0.645470  0.783296    0  \n",
       "1 -0.849218 -0.420578 -0.749675 -0.567958 -0.424195  1.549259  0.052083    0  \n",
       "2  1.177555 -0.420578 -0.749675 -0.567958 -0.424195  1.549259 -0.357553    0  \n",
       "3  1.177555 -0.420578  1.333912  1.760693 -0.424195  1.549259 -0.789798    0  \n",
       "4  1.177555 -0.420578  1.333912 -0.567958 -0.424195  1.549259 -1.845950    1  \n",
       "\n",
       "[5 rows x 49 columns]"
      ]
     },
     "execution_count": 9,
     "metadata": {},
     "output_type": "execute_result"
    }
   ],
   "source": [
    "df = pd.read_csv('https://www.dropbox.com/scl/fi/zzsy0dlbwn8vqk9vaqaar/data_processed.csv?rlkey=05u63ywmemb3ubu9kday4p23g&dl=1')\n",
    "df.head()"
   ]
  },
  {
   "cell_type": "markdown",
   "metadata": {},
   "source": [
    "# Model development"
   ]
  },
  {
   "cell_type": "markdown",
   "metadata": {},
   "source": [
    "It's now time to train our first machine learning model!\n",
    "\n",
    "We're going to develop our very own **XGBoost** model to predict postoperative AKI from our patient characteristics contained in `df`. XGBoost is a popular tree-based model that typically works well with tabular datasets like ours (and usually requires minimal tinkering).\n",
    "\n",
    "<center><img src=\"https://media.licdn.com/dms/image/C4D12AQHIt2funjnANA/article-cover_image-shrink_720_1280/0/1623913883834?e=1718841600&v=beta&t=QSFJ5MO4hvNEsAT5rB7KWxRwDwf28yMnUQjhQUUYpb0\" /></center>"
   ]
  },
  {
   "cell_type": "markdown",
   "metadata": {
    "tags": []
   },
   "source": [
    "# Splitting the dataset\n",
    "\n",
    "* **Recall** that ML models adjust their internal parameters by feeding in many examples of inputs $X$ and corresponding output $y$. This is called the **training** process. With enough time and training examples, the model can learn associations between inputs and outputs that can help it make a prediction on new data it hasn't ever seen before.\n",
    "\n",
    "* To evaluate how good our ML model is, we will **test** it on a set of examples that it has never seen before (known as the **test set**), and for each patient in the test set, compare the model's predicted outcome $\\hat{y}$ with the true patient outcome $y$.\n",
    "\n",
    "* With enough testing examples, we can calculate performance metrics such as accuracy and other diagnostic metrics like AUC, sensitivity, and specificity.\n",
    "\n",
    "Let's take our dataset and prepare it for building our ML model by doing a few final preprocessing items:\n",
    "* Convert the pandas DataFrame into two NumPy arrays: `X` (inputs) and `y` (AKI outcome)\n",
    "* Split X and y into training and testing sets. We'll have four variables after this step:\n",
    "    * `X_train` and `y_train`: the training set\n",
    "    * `X_test` and `y_test`: the testing set\n",
    "    * We'll arbitrarily use 20% of the dataset for testing.\n",
    "\n",
    "> **📌 Note:** Some of this code may seem unfamiliar to you. That's OK! Follow along with the comments to understand each step."
   ]
  },
  {
   "cell_type": "code",
   "execution_count": 10,
   "metadata": {},
   "outputs": [],
   "source": [
    "from sklearn.model_selection import train_test_split # We'll use this function to create the training and testing sets\n",
    "\n",
    "# Build X (an array/matrix) by taking the values from the entire df DataFrame EXCEPT FOR the first (patient id) and last (AKI outcome) columns\n",
    "X = df.iloc[:, 1:-1].values\n",
    "\n",
    "# Build y (a one-dimensional array) by taking only the final column ('aki'). The order of these outcomes exactly matches the order of the rows in X.\n",
    "y = df.iloc[:, -1].values\n",
    "\n",
    "# Split X and y into training and testing sets, by using a random 20% of the dataset for testing.\n",
    "X_train, X_test, y_train, y_test = train_test_split(X, y, test_size=0.20, random_state=2024)"
   ]
  },
  {
   "cell_type": "markdown",
   "metadata": {},
   "source": [
    "# Creating and Training an XGBoost Model"
   ]
  },
  {
   "cell_type": "markdown",
   "metadata": {},
   "source": [
    "* Let's train our first XGBoost model to predict postoperative AKI from our patient features.\n",
    "* We're going to use the popular Python library `xgboost`, which makes it very easy to train an ML model ***in a single line of code!***"
   ]
  },
  {
   "cell_type": "code",
   "execution_count": 11,
   "metadata": {},
   "outputs": [
    {
     "data": {
      "text/html": [
       "<style>#sk-container-id-1 {color: black;background-color: white;}#sk-container-id-1 pre{padding: 0;}#sk-container-id-1 div.sk-toggleable {background-color: white;}#sk-container-id-1 label.sk-toggleable__label {cursor: pointer;display: block;width: 100%;margin-bottom: 0;padding: 0.3em;box-sizing: border-box;text-align: center;}#sk-container-id-1 label.sk-toggleable__label-arrow:before {content: \"▸\";float: left;margin-right: 0.25em;color: #696969;}#sk-container-id-1 label.sk-toggleable__label-arrow:hover:before {color: black;}#sk-container-id-1 div.sk-estimator:hover label.sk-toggleable__label-arrow:before {color: black;}#sk-container-id-1 div.sk-toggleable__content {max-height: 0;max-width: 0;overflow: hidden;text-align: left;background-color: #f0f8ff;}#sk-container-id-1 div.sk-toggleable__content pre {margin: 0.2em;color: black;border-radius: 0.25em;background-color: #f0f8ff;}#sk-container-id-1 input.sk-toggleable__control:checked~div.sk-toggleable__content {max-height: 200px;max-width: 100%;overflow: auto;}#sk-container-id-1 input.sk-toggleable__control:checked~label.sk-toggleable__label-arrow:before {content: \"▾\";}#sk-container-id-1 div.sk-estimator input.sk-toggleable__control:checked~label.sk-toggleable__label {background-color: #d4ebff;}#sk-container-id-1 div.sk-label input.sk-toggleable__control:checked~label.sk-toggleable__label {background-color: #d4ebff;}#sk-container-id-1 input.sk-hidden--visually {border: 0;clip: rect(1px 1px 1px 1px);clip: rect(1px, 1px, 1px, 1px);height: 1px;margin: -1px;overflow: hidden;padding: 0;position: absolute;width: 1px;}#sk-container-id-1 div.sk-estimator {font-family: monospace;background-color: #f0f8ff;border: 1px dotted black;border-radius: 0.25em;box-sizing: border-box;margin-bottom: 0.5em;}#sk-container-id-1 div.sk-estimator:hover {background-color: #d4ebff;}#sk-container-id-1 div.sk-parallel-item::after {content: \"\";width: 100%;border-bottom: 1px solid gray;flex-grow: 1;}#sk-container-id-1 div.sk-label:hover label.sk-toggleable__label {background-color: #d4ebff;}#sk-container-id-1 div.sk-serial::before {content: \"\";position: absolute;border-left: 1px solid gray;box-sizing: border-box;top: 0;bottom: 0;left: 50%;z-index: 0;}#sk-container-id-1 div.sk-serial {display: flex;flex-direction: column;align-items: center;background-color: white;padding-right: 0.2em;padding-left: 0.2em;position: relative;}#sk-container-id-1 div.sk-item {position: relative;z-index: 1;}#sk-container-id-1 div.sk-parallel {display: flex;align-items: stretch;justify-content: center;background-color: white;position: relative;}#sk-container-id-1 div.sk-item::before, #sk-container-id-1 div.sk-parallel-item::before {content: \"\";position: absolute;border-left: 1px solid gray;box-sizing: border-box;top: 0;bottom: 0;left: 50%;z-index: -1;}#sk-container-id-1 div.sk-parallel-item {display: flex;flex-direction: column;z-index: 1;position: relative;background-color: white;}#sk-container-id-1 div.sk-parallel-item:first-child::after {align-self: flex-end;width: 50%;}#sk-container-id-1 div.sk-parallel-item:last-child::after {align-self: flex-start;width: 50%;}#sk-container-id-1 div.sk-parallel-item:only-child::after {width: 0;}#sk-container-id-1 div.sk-dashed-wrapped {border: 1px dashed gray;margin: 0 0.4em 0.5em 0.4em;box-sizing: border-box;padding-bottom: 0.4em;background-color: white;}#sk-container-id-1 div.sk-label label {font-family: monospace;font-weight: bold;display: inline-block;line-height: 1.2em;}#sk-container-id-1 div.sk-label-container {text-align: center;}#sk-container-id-1 div.sk-container {/* jupyter's `normalize.less` sets `[hidden] { display: none; }` but bootstrap.min.css set `[hidden] { display: none !important; }` so we also need the `!important` here to be able to override the default hidden behavior on the sphinx rendered scikit-learn.org. See: https://github.com/scikit-learn/scikit-learn/issues/21755 */display: inline-block !important;position: relative;}#sk-container-id-1 div.sk-text-repr-fallback {display: none;}</style><div id=\"sk-container-id-1\" class=\"sk-top-container\"><div class=\"sk-text-repr-fallback\"><pre>XGBClassifier(base_score=None, booster=None, callbacks=None,\n",
       "              colsample_bylevel=None, colsample_bynode=None,\n",
       "              colsample_bytree=None, early_stopping_rounds=None,\n",
       "              enable_categorical=False, eval_metric=None, feature_types=None,\n",
       "              gamma=None, gpu_id=None, grow_policy=None, importance_type=None,\n",
       "              interaction_constraints=None, learning_rate=None, max_bin=None,\n",
       "              max_cat_threshold=None, max_cat_to_onehot=None,\n",
       "              max_delta_step=None, max_depth=None, max_leaves=None,\n",
       "              min_child_weight=None, missing=nan, monotone_constraints=None,\n",
       "              n_estimators=100, n_jobs=None, num_parallel_tree=None,\n",
       "              predictor=None, random_state=None, ...)</pre><b>In a Jupyter environment, please rerun this cell to show the HTML representation or trust the notebook. <br />On GitHub, the HTML representation is unable to render, please try loading this page with nbviewer.org.</b></div><div class=\"sk-container\" hidden><div class=\"sk-item\"><div class=\"sk-estimator sk-toggleable\"><input class=\"sk-toggleable__control sk-hidden--visually\" id=\"sk-estimator-id-1\" type=\"checkbox\" checked><label for=\"sk-estimator-id-1\" class=\"sk-toggleable__label sk-toggleable__label-arrow\">XGBClassifier</label><div class=\"sk-toggleable__content\"><pre>XGBClassifier(base_score=None, booster=None, callbacks=None,\n",
       "              colsample_bylevel=None, colsample_bynode=None,\n",
       "              colsample_bytree=None, early_stopping_rounds=None,\n",
       "              enable_categorical=False, eval_metric=None, feature_types=None,\n",
       "              gamma=None, gpu_id=None, grow_policy=None, importance_type=None,\n",
       "              interaction_constraints=None, learning_rate=None, max_bin=None,\n",
       "              max_cat_threshold=None, max_cat_to_onehot=None,\n",
       "              max_delta_step=None, max_depth=None, max_leaves=None,\n",
       "              min_child_weight=None, missing=nan, monotone_constraints=None,\n",
       "              n_estimators=100, n_jobs=None, num_parallel_tree=None,\n",
       "              predictor=None, random_state=None, ...)</pre></div></div></div></div></div>"
      ],
      "text/plain": [
       "XGBClassifier(base_score=None, booster=None, callbacks=None,\n",
       "              colsample_bylevel=None, colsample_bynode=None,\n",
       "              colsample_bytree=None, early_stopping_rounds=None,\n",
       "              enable_categorical=False, eval_metric=None, feature_types=None,\n",
       "              gamma=None, gpu_id=None, grow_policy=None, importance_type=None,\n",
       "              interaction_constraints=None, learning_rate=None, max_bin=None,\n",
       "              max_cat_threshold=None, max_cat_to_onehot=None,\n",
       "              max_delta_step=None, max_depth=None, max_leaves=None,\n",
       "              min_child_weight=None, missing=nan, monotone_constraints=None,\n",
       "              n_estimators=100, n_jobs=None, num_parallel_tree=None,\n",
       "              predictor=None, random_state=None, ...)"
      ]
     },
     "execution_count": 11,
     "metadata": {},
     "output_type": "execute_result"
    }
   ],
   "source": [
    "import xgboost as xgb\n",
    "\n",
    "# Create our XGBoost prediction model and assign it to variable xgb\n",
    "xgb = xgb.XGBClassifier()\n",
    "\n",
    "# Train the model using the training dataset\n",
    "xgb.fit(X_train, y_train)"
   ]
  },
  {
   "cell_type": "markdown",
   "metadata": {},
   "source": [
    "That was easy! But is this model any good?\n",
    "\n",
    "To evaluate the performance of our model, we need to compare two quantities:  \n",
    "* $y$, the true outcomes of our testing set patients. In our code, we'll call this list `y_true`.\n",
    "* $\\hat{y}$, our model's **predicted** outcomes for the testing set patients. We'll call this `y_pred` (predicted).\n",
    "\n",
    "The XGBoost model has an easy function called `score` that computes the accuracy on a test dataset."
   ]
  },
  {
   "cell_type": "code",
   "execution_count": 12,
   "metadata": {},
   "outputs": [
    {
     "data": {
      "text/plain": [
       "0.815"
      ]
     },
     "execution_count": 12,
     "metadata": {},
     "output_type": "execute_result"
    }
   ],
   "source": [
    "# By default, xgb.score() will compute the model's accuracy on a given dataset.\n",
    "xgb.score(X_test, y_test)"
   ]
  },
  {
   "cell_type": "code",
   "execution_count": 13,
   "metadata": {},
   "outputs": [
    {
     "data": {
      "text/plain": [
       "0.7224702380952381"
      ]
     },
     "execution_count": 13,
     "metadata": {},
     "output_type": "execute_result"
    }
   ],
   "source": [
    "# We can also compute the area under the receiver operating characteristic curve with scikit-learn's roc_auc_score() function.\n",
    "from sklearn.metrics import roc_auc_score\n",
    "roc_auc_score(y_test, xgb.predict_proba(X_test)[:, 1])"
   ]
  },
  {
   "cell_type": "markdown",
   "metadata": {},
   "source": [
    "# Feature Importance\n",
    "* We now have our trained XGBoost model, and know how accurate it is at making predictions, but we don't understand **why** it predicts certain outcomes for certain patients.\n",
    "* For this, we need to turn to the field of **explainable AI (XAI)**, an emerging and active field of AI research.\n",
    "* In this module, we'll examine one of the simplest forms of explainability, which looks at the model's weight it assigns to each feature.\n",
    "* Every XGBoost model has a built-in *attribute* variable for this: `feature_importances_` (for convenience, we'll reassign the feature importances to a variable `F`)."
   ]
  },
  {
   "cell_type": "code",
   "execution_count": 14,
   "metadata": {},
   "outputs": [
    {
     "name": "stdout",
     "output_type": "stream",
     "text": [
      "[0.01189832 0.02208969 0.01637804 0.         0.02821996 0.0192895\n",
      " 0.01803474 0.03610881 0.02500539 0.05077526 0.0159129  0.01904665\n",
      " 0.01990001 0.02393517 0.01776305 0.01942565 0.04555962 0.\n",
      " 0.02154767 0.01131159 0.02949168 0.         0.         0.02285118\n",
      " 0.08030862 0.02920105 0.0130021  0.04385585 0.01555652 0.01971913\n",
      " 0.00561284 0.01782549 0.         0.02109463 0.03850839 0.01997661\n",
      " 0.01868751 0.03227314 0.01302437 0.02770381 0.00399807 0.02163165\n",
      " 0.0245136  0.01672599 0.02527906 0.00983103 0.02712579]\n"
     ]
    }
   ],
   "source": [
    "# Compute feature importances\n",
    "F = xgb.feature_importances_\n",
    "\n",
    "# Take a look at the feature importances.\n",
    "# The scores are in the order of the columns of our input data.\n",
    "print(F)"
   ]
  },
  {
   "cell_type": "markdown",
   "metadata": {},
   "source": [
    "To make this more informative, we can map these scores to their original feature names and generate a plot to visually compare the importance of each feature.\n",
    "\n",
    "Let's do this for the model's top 10 features.\n",
    "\n",
    "> **📌 Note:** Some of this code will be new. It's OK to just follow along!"
   ]
  },
  {
   "cell_type": "code",
   "execution_count": 15,
   "metadata": {},
   "outputs": [
    {
     "data": {
      "text/plain": [
       "<Axes: ylabel='feature'>"
      ]
     },
     "execution_count": 15,
     "metadata": {},
     "output_type": "execute_result"
    },
    {
     "data": {
      "image/png": "[encoded data removed]",
      "text/plain": [
       "<Figure size 500x300 with 1 Axes>"
      ]
     },
     "metadata": {},
     "output_type": "display_data"
    }
   ],
   "source": [
    "F_df = pd.DataFrame({'feature': df.columns.tolist()[1:-1], 'score': F}).sort_values(by='score').tail(10)\n",
    "F_df.plot.barh(x='feature', y='score', figsize=(5,3))"
   ]
  },
  {
   "cell_type": "markdown",
   "metadata": {},
   "source": [
    "By examining the model's learned feature importance scores, we can better understand influential model inputs and begin to have an idea of what information the model is weighting most heavily when it makes its predictions."
   ]
  },
  {
   "cell_type": "markdown",
   "metadata": {},
   "source": [
    "---\n",
    "> Portions of this module are based on concepts from course materials from BME4760 Biomedical Data Science, Department of Biomedical Engineering, University of Florida.\n",
    "---"
   ]
  }
 ],
 "metadata": {
  "accelerator": "GPU",
  "anaconda-cloud": {},
  "colab": {
   "collapsed_sections": [],
   "name": "MLP-Teacher.ipynb",
   "provenance": [
    {
     "file_id": "1HeKPEhTAMN0YCDHRP9wcYv18UUaaOJQW",
     "timestamp": 1654466786319
    },
    {
     "file_id": "148jGrKocKC_DFagQW4JBd7jtGQnOR9yf",
     "timestamp": 1654462810571
    }
   ],
   "version": ""
  },
  "kernelspec": {
   "display_name": "Python 3 (ipykernel)",
   "language": "python",
   "name": "python3"
  },
  "language_info": {
   "codemirror_mode": {
    "name": "ipython",
    "version": 3
   },
   "file_extension": ".py",
   "mimetype": "text/x-python",
   "name": "python",
   "nbconvert_exporter": "python",
   "pygments_lexer": "ipython3",
   "version": "3.11.5"
  }
 },
 "nbformat": 4,
 "nbformat_minor": 4
}
